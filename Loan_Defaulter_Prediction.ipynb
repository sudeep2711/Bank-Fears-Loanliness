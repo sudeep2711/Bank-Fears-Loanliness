{
  "nbformat": 4,
  "nbformat_minor": 0,
  "metadata": {
    "kernelspec": {
      "name": "python3",
      "display_name": "Python 3"
    },
    "language_info": {
      "codemirror_mode": {
        "name": "ipython",
        "version": 3
      },
      "file_extension": ".py",
      "mimetype": "text/x-python",
      "name": "python",
      "nbconvert_exporter": "python",
      "pygments_lexer": "ipython3",
      "version": "3.7.6"
    },
    "colab": {
      "name": "Loan Defaulter Prediction.ipynb",
      "provenance": [],
      "collapsed_sections": [
        "JoFnt1Ww-_WS"
      ],
      "toc_visible": true,
      "include_colab_link": true
    },
    "accelerator": "GPU"
  },
  "cells": [
    {
      "cell_type": "markdown",
      "metadata": {
        "id": "view-in-github",
        "colab_type": "text"
      },
      "source": [
        "<a href=\"https://colab.research.google.com/github/sudeep2711/Bank-Fears-Loanliness/blob/master/Loan_Defaulter_Prediction.ipynb\" target=\"_parent\"><img src=\"https://colab.research.google.com/assets/colab-badge.svg\" alt=\"Open In Colab\"/></a>"
      ]
    },
    {
      "cell_type": "markdown",
      "metadata": {
        "id": "Dq5zHY7w-_VV",
        "colab_type": "text"
      },
      "source": [
        "# <center> <span style=\"color:#3f538a\">Predicting Loan</span> <span style =\"color:#eb9e34\"> defaulters</span> </center>"
      ]
    },
    {
      "cell_type": "code",
      "metadata": {
        "id": "VberBlN6rc-z",
        "colab_type": "code",
        "colab": {
          "base_uri": "https://localhost:8080/",
          "height": 34
        },
        "outputId": "7c02ddeb-15f7-4557-f0ad-19db1f7517d8"
      },
      "source": [
        "pwd()"
      ],
      "execution_count": 1,
      "outputs": [
        {
          "output_type": "execute_result",
          "data": {
            "text/plain": [
              "'/content'"
            ]
          },
          "metadata": {
            "tags": []
          },
          "execution_count": 1
        }
      ]
    },
    {
      "cell_type": "markdown",
      "metadata": {
        "id": "ZZdbt5-g-_VX",
        "colab_type": "text"
      },
      "source": [
        "##### This Notebook is meant to be a sample code base for basic data wrangling, EDA and Modelling using Python"
      ]
    },
    {
      "cell_type": "markdown",
      "metadata": {
        "id": "Si40FvY--_VY",
        "colab_type": "text"
      },
      "source": [
        "\n",
        "<b>*Business Context* </b> <br> When you borrow money from a lender, you make a promise to repay the loan. So if you fail to make on-time payments, your loan can go into <b> default</b>. Some people might knowingly default on loans when they’re unable or unwilling to make payments. Others may unintentionally default because they don’t realize they owe the money. Sometimes people don’t receive late-payment notices, because they recently moved or changed their contact information.\n",
        "\n",
        "(Source: Credit Karma)\n",
        "\n",
        "<img src ='https://im.rediff.com/getahead/2010/jun/30home2.jpg' width =200, height =100> \n",
        "\n",
        "<b> *Why are we predicting loan defaulters?* </b>\n",
        "<br>Loans are a big part of a Bank's income source. Banks generate revenue out of the income generated on loans. Similarly banks make huge losses if someone doesn't repay these loans. Hence financial institutions are extremely careful as to whom to offer loans. Banks have to be extremely cautious and avoid cases where they reject a loan application of a potential customer who would ideally repay the loans. Also they need to minimize cases where they give out loans to people who would default later on. Hence machine learning algorithms which predict this have to be really accurate.\n",
        "\n",
        "\n",
        "\n"
      ]
    },
    {
      "cell_type": "markdown",
      "metadata": {
        "id": "CDVG4Xvi-_Va",
        "colab_type": "text"
      },
      "source": [
        "----\n",
        "##### Problem Statement\n",
        "\n",
        "* The Bank Indessa has not done well in last 3 quarters. Their NPAs (Non Performing Assets) have reached all time high. It is starting to lose confidence of its investors. As a result, it’s stock has fallen by 20% in the previous quarter alone.\n",
        "\n",
        "\n",
        "* After careful analysis, it was found that the majority of NPA was contributed by loan defaulters. With the messy data collected over all the years, this bank has decided to use machine learning to figure out a way to find these defaulters and devise a plan to reduce them.\n",
        "\n",
        "\n",
        "* This bank uses a pool of investors to sanction their loans. For example: If any customer has applied for a loan of $20000, along with bank, the investors perform a due diligence on the requested loan application. Keep this in mind while understanding data.\n",
        "\n",
        "\n",
        "* In this challenge, you will help this bank by predicting the probability that a member will default.\n",
        "\n",
        "----"
      ]
    },
    {
      "cell_type": "markdown",
      "metadata": {
        "id": "1eUKuGGz-_Vc",
        "colab_type": "text"
      },
      "source": [
        "#### 1. Importing Required Libraries and setting required parameters"
      ]
    },
    {
      "cell_type": "code",
      "metadata": {
        "id": "7AkstQeH-_Vd",
        "colab_type": "code",
        "colab": {
          "base_uri": "https://localhost:8080/",
          "height": 71
        },
        "outputId": "633a119e-ce8a-44e0-92c2-70cb60804dfe"
      },
      "source": [
        "import pandas as pd\n",
        "import numpy as np\n",
        "import seaborn as sns\n",
        "import matplotlib.pyplot as plt\n",
        "from IPython.core.interactiveshell import InteractiveShell\n",
        "\n",
        "# To get all the responses in the notebook and not only the last code in the code block\n",
        "InteractiveShell.ast_node_interactivity = \"all\"\n",
        "\n",
        "#Making sure Pandas doesn't truncate columns while displaying in notebook\n",
        "pd.set_option('display.max_columns', None)  \n",
        "%matplotlib inline"
      ],
      "execution_count": 2,
      "outputs": [
        {
          "output_type": "stream",
          "text": [
            "/usr/local/lib/python3.6/dist-packages/statsmodels/tools/_testing.py:19: FutureWarning: pandas.util.testing is deprecated. Use the functions in the public API at pandas.testing instead.\n",
            "  import pandas.util.testing as tm\n"
          ],
          "name": "stderr"
        }
      ]
    },
    {
      "cell_type": "markdown",
      "metadata": {
        "id": "Aku06Qmc-_Vg",
        "colab_type": "text"
      },
      "source": [
        "#### 2. Exploratory Data Analytics"
      ]
    },
    {
      "cell_type": "markdown",
      "metadata": {
        "id": "m4QPH6kW-_Vg",
        "colab_type": "text"
      },
      "source": [
        "### <center><font color='#3f538a'> Data Dictionary</font></center>\n",
        "\n",
        "\n",
        "|Variable|\tDescription|\n",
        "|-----------|--------------|\n",
        "|member_id|unique ID assigned to each member|\n",
        "|loan_amnt|\tloan amount applied by the member|\n",
        "|funded_amnt|\tloan amount sanctioned by the bank|\n",
        "|funded_amnt_inv|\tloan amount sanctioned by the investors|\n",
        "|term|\tterm of loan (in months)|\n",
        "|batch_enrolled|\tbatch numbers allotted to members|\n",
        "|int_rate|\tinterest rate on loan|\n",
        "|grade|\tgrade assigned by the bank|\n",
        "|sub_grade|\tgrade assigned by the bank|\n",
        "|emp_title\t|job / Employer title of member|\n",
        "|emp_length|\temployment length, where 0 means less than one year and 10 means ten or more years|\n",
        "|home_ownership|\tstatus of home ownership|\n",
        "|annual_inc|\tannual income  reported by the member|\n",
        "|verification_status|\tstatus of income verified by the bank|\n",
        "|pymnt_plan\t|indicates if any payment plan has started against loan|\n",
        "|desc|\tloan description provided by member|\n",
        "|purpose|\tpurpose of loan|\n",
        "|title|\tloan title provided by member|\n",
        "|zip_code|\tfirst three digits of area zipcode of member|\n",
        "|addr_state|\tliving state of member|\n",
        "|dti|\tratio of member's total monthly debt repayment excluding mortgage divided by self reported monthly income|\n",
        "|delinq_2yrs|\tnumber of 30+ days delinquency in past 2 years|\n",
        "|inq_last_6mths|\tnumber of inquiries in last 6 months|\n",
        "|mths_since_last_delinq|\tnumber of months since last delinq|\n",
        "|mths_since_last_record|\tnumber of months since last public record|\n",
        "|open_acc\t|number of open credit line in member's credit line|\n",
        "|pub_rec\t|number of derogatory public records|\n",
        "|revol_bal\t|total credit revolving balance|\n",
        "|revol_util\t|amount of credit a member is using relative to revol_bal|\n",
        "|total_acc\t|total number of credit lines available in members credit line|\n",
        "|initial_list_status|\tunique listing status of the loan - W(Waiting), F(Forwarded)|\n",
        "|total_rec_int\t|interest received till date|\n",
        "|total_rec_late_fee|\tLate fee received till date|\n",
        "|recoveries\t|post charge off gross recovery|\n",
        "|collection_recovery_fee|\tpost charge off collection fee|\n",
        "|collections_12_mths_ex_med|\tnumber of collections in last 12 months excluding medical collections|\n",
        "|mths_since_last_major_derog|\tmonths since most recent 90 day or worse rating|\n",
        "|application_type\t|indicates when the member is an individual or joint|\n",
        "|verification_status_joint|\tindicates if the joint members income was verified by the bank|\n",
        "|last_week_pay|\tindicates how long (in weeks) a member has paid EMI after batch enrolled|\n",
        "|acc_now_delinq\t|number of accounts on which the member is delinquent|\n",
        "|tot_coll_amt\t|total collection amount ever owed|\n",
        "|tot_cur_bal|\ttotal current balance of all accounts|\n",
        "|total_rev_hi_lim|\ttotal revolving credit limit|\n",
        "|loan_status|\tstatus of loan amount, 1 = Defaulter, 0 = Non Defaulters|\n",
        "    \n"
      ]
    },
    {
      "cell_type": "code",
      "metadata": {
        "id": "TWSSNN0NIbpe",
        "colab_type": "code",
        "outputId": "42262957-db26-4d8a-cc50-f42a5ae4b0f4",
        "colab": {
          "base_uri": "https://localhost:8080/",
          "height": 34
        }
      },
      "source": [
        "pwd()"
      ],
      "execution_count": 3,
      "outputs": [
        {
          "output_type": "execute_result",
          "data": {
            "text/plain": [
              "'/content'"
            ]
          },
          "metadata": {
            "tags": []
          },
          "execution_count": 3
        }
      ]
    },
    {
      "cell_type": "code",
      "metadata": {
        "id": "9t5cnZHL-_Vh",
        "colab_type": "code",
        "colab": {}
      },
      "source": [
        "#reading datasets\n",
        "\n",
        "train=pd.read_csv('train_indessa.csv')\n",
        "test=pd.read_csv('test_indessa.csv')"
      ],
      "execution_count": 0,
      "outputs": []
    },
    {
      "cell_type": "code",
      "metadata": {
        "id": "rCIYbibG-_Vk",
        "colab_type": "code",
        "outputId": "51067e0d-186e-4de1-ac51-bf8801875109",
        "colab": {
          "base_uri": "https://localhost:8080/",
          "height": 230
        }
      },
      "source": [
        "#Checking sample data\n",
        "train.head(3)"
      ],
      "execution_count": 6,
      "outputs": [
        {
          "output_type": "execute_result",
          "data": {
            "text/html": [
              "<div>\n",
              "<style scoped>\n",
              "    .dataframe tbody tr th:only-of-type {\n",
              "        vertical-align: middle;\n",
              "    }\n",
              "\n",
              "    .dataframe tbody tr th {\n",
              "        vertical-align: top;\n",
              "    }\n",
              "\n",
              "    .dataframe thead th {\n",
              "        text-align: right;\n",
              "    }\n",
              "</style>\n",
              "<table border=\"1\" class=\"dataframe\">\n",
              "  <thead>\n",
              "    <tr style=\"text-align: right;\">\n",
              "      <th></th>\n",
              "      <th>member_id</th>\n",
              "      <th>loan_amnt</th>\n",
              "      <th>funded_amnt</th>\n",
              "      <th>funded_amnt_inv</th>\n",
              "      <th>term</th>\n",
              "      <th>batch_enrolled</th>\n",
              "      <th>int_rate</th>\n",
              "      <th>grade</th>\n",
              "      <th>sub_grade</th>\n",
              "      <th>emp_title</th>\n",
              "      <th>emp_length</th>\n",
              "      <th>home_ownership</th>\n",
              "      <th>annual_inc</th>\n",
              "      <th>verification_status</th>\n",
              "      <th>pymnt_plan</th>\n",
              "      <th>desc</th>\n",
              "      <th>purpose</th>\n",
              "      <th>title</th>\n",
              "      <th>zip_code</th>\n",
              "      <th>addr_state</th>\n",
              "      <th>dti</th>\n",
              "      <th>delinq_2yrs</th>\n",
              "      <th>inq_last_6mths</th>\n",
              "      <th>mths_since_last_delinq</th>\n",
              "      <th>mths_since_last_record</th>\n",
              "      <th>open_acc</th>\n",
              "      <th>pub_rec</th>\n",
              "      <th>revol_bal</th>\n",
              "      <th>revol_util</th>\n",
              "      <th>total_acc</th>\n",
              "      <th>initial_list_status</th>\n",
              "      <th>total_rec_int</th>\n",
              "      <th>total_rec_late_fee</th>\n",
              "      <th>recoveries</th>\n",
              "      <th>collection_recovery_fee</th>\n",
              "      <th>collections_12_mths_ex_med</th>\n",
              "      <th>mths_since_last_major_derog</th>\n",
              "      <th>application_type</th>\n",
              "      <th>verification_status_joint</th>\n",
              "      <th>last_week_pay</th>\n",
              "      <th>acc_now_delinq</th>\n",
              "      <th>tot_coll_amt</th>\n",
              "      <th>tot_cur_bal</th>\n",
              "      <th>total_rev_hi_lim</th>\n",
              "      <th>loan_status</th>\n",
              "    </tr>\n",
              "  </thead>\n",
              "  <tbody>\n",
              "    <tr>\n",
              "      <th>0</th>\n",
              "      <td>58189336</td>\n",
              "      <td>14350</td>\n",
              "      <td>14350</td>\n",
              "      <td>14350.0</td>\n",
              "      <td>36 months</td>\n",
              "      <td></td>\n",
              "      <td>19.19</td>\n",
              "      <td>E</td>\n",
              "      <td>E3</td>\n",
              "      <td>clerk</td>\n",
              "      <td>9 years</td>\n",
              "      <td>OWN</td>\n",
              "      <td>28700.0</td>\n",
              "      <td>Source Verified</td>\n",
              "      <td>n</td>\n",
              "      <td>NaN</td>\n",
              "      <td>debt_consolidation</td>\n",
              "      <td>Debt consolidation</td>\n",
              "      <td>349xx</td>\n",
              "      <td>FL</td>\n",
              "      <td>33.88</td>\n",
              "      <td>0.0</td>\n",
              "      <td>1.0</td>\n",
              "      <td>50.0</td>\n",
              "      <td>75.0</td>\n",
              "      <td>14.0</td>\n",
              "      <td>1.0</td>\n",
              "      <td>22515.0</td>\n",
              "      <td>73.1</td>\n",
              "      <td>28.0</td>\n",
              "      <td>f</td>\n",
              "      <td>1173.84</td>\n",
              "      <td>0.0</td>\n",
              "      <td>0.0</td>\n",
              "      <td>0.0</td>\n",
              "      <td>0.0</td>\n",
              "      <td>74.0</td>\n",
              "      <td>INDIVIDUAL</td>\n",
              "      <td>NaN</td>\n",
              "      <td>26th week</td>\n",
              "      <td>0.0</td>\n",
              "      <td>0.0</td>\n",
              "      <td>28699.0</td>\n",
              "      <td>30800.0</td>\n",
              "      <td>0</td>\n",
              "    </tr>\n",
              "    <tr>\n",
              "      <th>1</th>\n",
              "      <td>70011223</td>\n",
              "      <td>4800</td>\n",
              "      <td>4800</td>\n",
              "      <td>4800.0</td>\n",
              "      <td>36 months</td>\n",
              "      <td>BAT1586599</td>\n",
              "      <td>10.99</td>\n",
              "      <td>B</td>\n",
              "      <td>B4</td>\n",
              "      <td>Human Resources Specialist</td>\n",
              "      <td>&lt; 1 year</td>\n",
              "      <td>MORTGAGE</td>\n",
              "      <td>65000.0</td>\n",
              "      <td>Source Verified</td>\n",
              "      <td>n</td>\n",
              "      <td>NaN</td>\n",
              "      <td>home_improvement</td>\n",
              "      <td>Home improvement</td>\n",
              "      <td>209xx</td>\n",
              "      <td>MD</td>\n",
              "      <td>3.64</td>\n",
              "      <td>0.0</td>\n",
              "      <td>1.0</td>\n",
              "      <td>NaN</td>\n",
              "      <td>NaN</td>\n",
              "      <td>6.0</td>\n",
              "      <td>0.0</td>\n",
              "      <td>7624.0</td>\n",
              "      <td>23.2</td>\n",
              "      <td>13.0</td>\n",
              "      <td>w</td>\n",
              "      <td>83.95</td>\n",
              "      <td>0.0</td>\n",
              "      <td>0.0</td>\n",
              "      <td>0.0</td>\n",
              "      <td>0.0</td>\n",
              "      <td>NaN</td>\n",
              "      <td>INDIVIDUAL</td>\n",
              "      <td>NaN</td>\n",
              "      <td>9th week</td>\n",
              "      <td>0.0</td>\n",
              "      <td>0.0</td>\n",
              "      <td>9974.0</td>\n",
              "      <td>32900.0</td>\n",
              "      <td>0</td>\n",
              "    </tr>\n",
              "    <tr>\n",
              "      <th>2</th>\n",
              "      <td>70255675</td>\n",
              "      <td>10000</td>\n",
              "      <td>10000</td>\n",
              "      <td>10000.0</td>\n",
              "      <td>36 months</td>\n",
              "      <td>BAT1586599</td>\n",
              "      <td>7.26</td>\n",
              "      <td>A</td>\n",
              "      <td>A4</td>\n",
              "      <td>Driver</td>\n",
              "      <td>2 years</td>\n",
              "      <td>OWN</td>\n",
              "      <td>45000.0</td>\n",
              "      <td>Not Verified</td>\n",
              "      <td>n</td>\n",
              "      <td>NaN</td>\n",
              "      <td>debt_consolidation</td>\n",
              "      <td>Debt consolidation</td>\n",
              "      <td>447xx</td>\n",
              "      <td>OH</td>\n",
              "      <td>18.42</td>\n",
              "      <td>0.0</td>\n",
              "      <td>0.0</td>\n",
              "      <td>NaN</td>\n",
              "      <td>NaN</td>\n",
              "      <td>5.0</td>\n",
              "      <td>0.0</td>\n",
              "      <td>10877.0</td>\n",
              "      <td>31.2</td>\n",
              "      <td>19.0</td>\n",
              "      <td>w</td>\n",
              "      <td>56.47</td>\n",
              "      <td>0.0</td>\n",
              "      <td>0.0</td>\n",
              "      <td>0.0</td>\n",
              "      <td>0.0</td>\n",
              "      <td>NaN</td>\n",
              "      <td>INDIVIDUAL</td>\n",
              "      <td>NaN</td>\n",
              "      <td>9th week</td>\n",
              "      <td>0.0</td>\n",
              "      <td>65.0</td>\n",
              "      <td>38295.0</td>\n",
              "      <td>34900.0</td>\n",
              "      <td>0</td>\n",
              "    </tr>\n",
              "  </tbody>\n",
              "</table>\n",
              "</div>"
            ],
            "text/plain": [
              "   member_id  loan_amnt  funded_amnt  funded_amnt_inv       term  \\\n",
              "0   58189336      14350        14350          14350.0  36 months   \n",
              "1   70011223       4800         4800           4800.0  36 months   \n",
              "2   70255675      10000        10000          10000.0  36 months   \n",
              "\n",
              "  batch_enrolled  int_rate grade sub_grade                   emp_title  \\\n",
              "0                    19.19     E        E3                       clerk   \n",
              "1     BAT1586599     10.99     B        B4  Human Resources Specialist   \n",
              "2     BAT1586599      7.26     A        A4                      Driver   \n",
              "\n",
              "  emp_length home_ownership  annual_inc verification_status pymnt_plan desc  \\\n",
              "0    9 years            OWN     28700.0     Source Verified          n  NaN   \n",
              "1   < 1 year       MORTGAGE     65000.0     Source Verified          n  NaN   \n",
              "2    2 years            OWN     45000.0        Not Verified          n  NaN   \n",
              "\n",
              "              purpose               title zip_code addr_state    dti  \\\n",
              "0  debt_consolidation  Debt consolidation    349xx         FL  33.88   \n",
              "1    home_improvement    Home improvement    209xx         MD   3.64   \n",
              "2  debt_consolidation  Debt consolidation    447xx         OH  18.42   \n",
              "\n",
              "   delinq_2yrs  inq_last_6mths  mths_since_last_delinq  \\\n",
              "0          0.0             1.0                    50.0   \n",
              "1          0.0             1.0                     NaN   \n",
              "2          0.0             0.0                     NaN   \n",
              "\n",
              "   mths_since_last_record  open_acc  pub_rec  revol_bal  revol_util  \\\n",
              "0                    75.0      14.0      1.0    22515.0        73.1   \n",
              "1                     NaN       6.0      0.0     7624.0        23.2   \n",
              "2                     NaN       5.0      0.0    10877.0        31.2   \n",
              "\n",
              "   total_acc initial_list_status  total_rec_int  total_rec_late_fee  \\\n",
              "0       28.0                   f        1173.84                 0.0   \n",
              "1       13.0                   w          83.95                 0.0   \n",
              "2       19.0                   w          56.47                 0.0   \n",
              "\n",
              "   recoveries  collection_recovery_fee  collections_12_mths_ex_med  \\\n",
              "0         0.0                      0.0                         0.0   \n",
              "1         0.0                      0.0                         0.0   \n",
              "2         0.0                      0.0                         0.0   \n",
              "\n",
              "   mths_since_last_major_derog application_type verification_status_joint  \\\n",
              "0                         74.0       INDIVIDUAL                       NaN   \n",
              "1                          NaN       INDIVIDUAL                       NaN   \n",
              "2                          NaN       INDIVIDUAL                       NaN   \n",
              "\n",
              "  last_week_pay  acc_now_delinq  tot_coll_amt  tot_cur_bal  total_rev_hi_lim  \\\n",
              "0     26th week             0.0           0.0      28699.0           30800.0   \n",
              "1      9th week             0.0           0.0       9974.0           32900.0   \n",
              "2      9th week             0.0          65.0      38295.0           34900.0   \n",
              "\n",
              "   loan_status  \n",
              "0            0  \n",
              "1            0  \n",
              "2            0  "
            ]
          },
          "metadata": {
            "tags": []
          },
          "execution_count": 6
        }
      ]
    },
    {
      "cell_type": "code",
      "metadata": {
        "scrolled": true,
        "id": "3hXXiIzL-_Vn",
        "colab_type": "code",
        "outputId": "1d016396-b00e-4b61-aa2b-8a8aed2f2975",
        "colab": {
          "base_uri": "https://localhost:8080/",
          "height": 317
        }
      },
      "source": [
        "train.describe()"
      ],
      "execution_count": 7,
      "outputs": [
        {
          "output_type": "execute_result",
          "data": {
            "text/html": [
              "<div>\n",
              "<style scoped>\n",
              "    .dataframe tbody tr th:only-of-type {\n",
              "        vertical-align: middle;\n",
              "    }\n",
              "\n",
              "    .dataframe tbody tr th {\n",
              "        vertical-align: top;\n",
              "    }\n",
              "\n",
              "    .dataframe thead th {\n",
              "        text-align: right;\n",
              "    }\n",
              "</style>\n",
              "<table border=\"1\" class=\"dataframe\">\n",
              "  <thead>\n",
              "    <tr style=\"text-align: right;\">\n",
              "      <th></th>\n",
              "      <th>member_id</th>\n",
              "      <th>loan_amnt</th>\n",
              "      <th>funded_amnt</th>\n",
              "      <th>funded_amnt_inv</th>\n",
              "      <th>int_rate</th>\n",
              "      <th>annual_inc</th>\n",
              "      <th>dti</th>\n",
              "      <th>delinq_2yrs</th>\n",
              "      <th>inq_last_6mths</th>\n",
              "      <th>mths_since_last_delinq</th>\n",
              "      <th>mths_since_last_record</th>\n",
              "      <th>open_acc</th>\n",
              "      <th>pub_rec</th>\n",
              "      <th>revol_bal</th>\n",
              "      <th>revol_util</th>\n",
              "      <th>total_acc</th>\n",
              "      <th>total_rec_int</th>\n",
              "      <th>total_rec_late_fee</th>\n",
              "      <th>recoveries</th>\n",
              "      <th>collection_recovery_fee</th>\n",
              "      <th>collections_12_mths_ex_med</th>\n",
              "      <th>mths_since_last_major_derog</th>\n",
              "      <th>acc_now_delinq</th>\n",
              "      <th>tot_coll_amt</th>\n",
              "      <th>tot_cur_bal</th>\n",
              "      <th>total_rev_hi_lim</th>\n",
              "      <th>loan_status</th>\n",
              "    </tr>\n",
              "  </thead>\n",
              "  <tbody>\n",
              "    <tr>\n",
              "      <th>count</th>\n",
              "      <td>5.324280e+05</td>\n",
              "      <td>532428.000000</td>\n",
              "      <td>532428.000000</td>\n",
              "      <td>532428.000000</td>\n",
              "      <td>532428.000000</td>\n",
              "      <td>5.324250e+05</td>\n",
              "      <td>532428.000000</td>\n",
              "      <td>532412.000000</td>\n",
              "      <td>532412.000000</td>\n",
              "      <td>259874.000000</td>\n",
              "      <td>82123.000000</td>\n",
              "      <td>532412.000000</td>\n",
              "      <td>532412.000000</td>\n",
              "      <td>5.324280e+05</td>\n",
              "      <td>532141.000000</td>\n",
              "      <td>532412.000000</td>\n",
              "      <td>532428.000000</td>\n",
              "      <td>532428.000000</td>\n",
              "      <td>532428.000000</td>\n",
              "      <td>532428.000000</td>\n",
              "      <td>532333.000000</td>\n",
              "      <td>132980.000000</td>\n",
              "      <td>532412.000000</td>\n",
              "      <td>490424.000000</td>\n",
              "      <td>4.904240e+05</td>\n",
              "      <td>4.904240e+05</td>\n",
              "      <td>532428.000000</td>\n",
              "    </tr>\n",
              "    <tr>\n",
              "      <th>mean</th>\n",
              "      <td>3.500547e+07</td>\n",
              "      <td>14757.595722</td>\n",
              "      <td>14744.271291</td>\n",
              "      <td>14704.926696</td>\n",
              "      <td>13.242969</td>\n",
              "      <td>7.502984e+04</td>\n",
              "      <td>18.138767</td>\n",
              "      <td>0.314448</td>\n",
              "      <td>0.694603</td>\n",
              "      <td>34.055735</td>\n",
              "      <td>70.093068</td>\n",
              "      <td>11.545594</td>\n",
              "      <td>0.194858</td>\n",
              "      <td>1.692128e+04</td>\n",
              "      <td>55.057189</td>\n",
              "      <td>25.267357</td>\n",
              "      <td>1753.428788</td>\n",
              "      <td>0.394954</td>\n",
              "      <td>45.717832</td>\n",
              "      <td>4.859221</td>\n",
              "      <td>0.014299</td>\n",
              "      <td>44.121462</td>\n",
              "      <td>0.005015</td>\n",
              "      <td>213.562222</td>\n",
              "      <td>1.395541e+05</td>\n",
              "      <td>3.208057e+04</td>\n",
              "      <td>0.236327</td>\n",
              "    </tr>\n",
              "    <tr>\n",
              "      <th>std</th>\n",
              "      <td>2.412148e+07</td>\n",
              "      <td>8434.420080</td>\n",
              "      <td>8429.139277</td>\n",
              "      <td>8441.290381</td>\n",
              "      <td>4.379611</td>\n",
              "      <td>6.519985e+04</td>\n",
              "      <td>8.369074</td>\n",
              "      <td>0.860045</td>\n",
              "      <td>0.997025</td>\n",
              "      <td>21.884797</td>\n",
              "      <td>28.139219</td>\n",
              "      <td>5.311442</td>\n",
              "      <td>0.583822</td>\n",
              "      <td>2.242322e+04</td>\n",
              "      <td>23.853436</td>\n",
              "      <td>11.843211</td>\n",
              "      <td>2093.199837</td>\n",
              "      <td>4.091546</td>\n",
              "      <td>409.647467</td>\n",
              "      <td>63.123361</td>\n",
              "      <td>0.133005</td>\n",
              "      <td>22.198410</td>\n",
              "      <td>0.079117</td>\n",
              "      <td>1958.571538</td>\n",
              "      <td>1.539149e+05</td>\n",
              "      <td>3.805304e+04</td>\n",
              "      <td>0.424826</td>\n",
              "    </tr>\n",
              "    <tr>\n",
              "      <th>min</th>\n",
              "      <td>7.047300e+04</td>\n",
              "      <td>500.000000</td>\n",
              "      <td>500.000000</td>\n",
              "      <td>0.000000</td>\n",
              "      <td>5.320000</td>\n",
              "      <td>1.200000e+03</td>\n",
              "      <td>0.000000</td>\n",
              "      <td>0.000000</td>\n",
              "      <td>0.000000</td>\n",
              "      <td>0.000000</td>\n",
              "      <td>0.000000</td>\n",
              "      <td>0.000000</td>\n",
              "      <td>0.000000</td>\n",
              "      <td>0.000000e+00</td>\n",
              "      <td>0.000000</td>\n",
              "      <td>1.000000</td>\n",
              "      <td>0.000000</td>\n",
              "      <td>0.000000</td>\n",
              "      <td>0.000000</td>\n",
              "      <td>0.000000</td>\n",
              "      <td>0.000000</td>\n",
              "      <td>0.000000</td>\n",
              "      <td>0.000000</td>\n",
              "      <td>0.000000</td>\n",
              "      <td>0.000000e+00</td>\n",
              "      <td>0.000000e+00</td>\n",
              "      <td>0.000000</td>\n",
              "    </tr>\n",
              "    <tr>\n",
              "      <th>25%</th>\n",
              "      <td>1.086688e+07</td>\n",
              "      <td>8000.000000</td>\n",
              "      <td>8000.000000</td>\n",
              "      <td>8000.000000</td>\n",
              "      <td>9.990000</td>\n",
              "      <td>4.500000e+04</td>\n",
              "      <td>11.930000</td>\n",
              "      <td>0.000000</td>\n",
              "      <td>0.000000</td>\n",
              "      <td>15.000000</td>\n",
              "      <td>51.000000</td>\n",
              "      <td>8.000000</td>\n",
              "      <td>0.000000</td>\n",
              "      <td>6.444000e+03</td>\n",
              "      <td>37.700000</td>\n",
              "      <td>17.000000</td>\n",
              "      <td>441.600000</td>\n",
              "      <td>0.000000</td>\n",
              "      <td>0.000000</td>\n",
              "      <td>0.000000</td>\n",
              "      <td>0.000000</td>\n",
              "      <td>27.000000</td>\n",
              "      <td>0.000000</td>\n",
              "      <td>0.000000</td>\n",
              "      <td>2.983975e+04</td>\n",
              "      <td>1.400000e+04</td>\n",
              "      <td>0.000000</td>\n",
              "    </tr>\n",
              "    <tr>\n",
              "      <th>50%</th>\n",
              "      <td>3.709590e+07</td>\n",
              "      <td>13000.000000</td>\n",
              "      <td>13000.000000</td>\n",
              "      <td>13000.000000</td>\n",
              "      <td>12.990000</td>\n",
              "      <td>6.500000e+04</td>\n",
              "      <td>17.650000</td>\n",
              "      <td>0.000000</td>\n",
              "      <td>0.000000</td>\n",
              "      <td>31.000000</td>\n",
              "      <td>70.000000</td>\n",
              "      <td>11.000000</td>\n",
              "      <td>0.000000</td>\n",
              "      <td>1.187600e+04</td>\n",
              "      <td>56.000000</td>\n",
              "      <td>24.000000</td>\n",
              "      <td>1072.690000</td>\n",
              "      <td>0.000000</td>\n",
              "      <td>0.000000</td>\n",
              "      <td>0.000000</td>\n",
              "      <td>0.000000</td>\n",
              "      <td>44.000000</td>\n",
              "      <td>0.000000</td>\n",
              "      <td>0.000000</td>\n",
              "      <td>8.066950e+04</td>\n",
              "      <td>2.370000e+04</td>\n",
              "      <td>0.000000</td>\n",
              "    </tr>\n",
              "    <tr>\n",
              "      <th>75%</th>\n",
              "      <td>5.848920e+07</td>\n",
              "      <td>20000.000000</td>\n",
              "      <td>20000.000000</td>\n",
              "      <td>20000.000000</td>\n",
              "      <td>16.200000</td>\n",
              "      <td>9.000000e+04</td>\n",
              "      <td>23.950000</td>\n",
              "      <td>0.000000</td>\n",
              "      <td>1.000000</td>\n",
              "      <td>50.000000</td>\n",
              "      <td>92.000000</td>\n",
              "      <td>14.000000</td>\n",
              "      <td>0.000000</td>\n",
              "      <td>2.084300e+04</td>\n",
              "      <td>73.600000</td>\n",
              "      <td>32.000000</td>\n",
              "      <td>2234.735000</td>\n",
              "      <td>0.000000</td>\n",
              "      <td>0.000000</td>\n",
              "      <td>0.000000</td>\n",
              "      <td>0.000000</td>\n",
              "      <td>61.000000</td>\n",
              "      <td>0.000000</td>\n",
              "      <td>0.000000</td>\n",
              "      <td>2.084792e+05</td>\n",
              "      <td>3.980000e+04</td>\n",
              "      <td>0.000000</td>\n",
              "    </tr>\n",
              "    <tr>\n",
              "      <th>max</th>\n",
              "      <td>7.354484e+07</td>\n",
              "      <td>35000.000000</td>\n",
              "      <td>35000.000000</td>\n",
              "      <td>35000.000000</td>\n",
              "      <td>28.990000</td>\n",
              "      <td>9.500000e+06</td>\n",
              "      <td>672.520000</td>\n",
              "      <td>30.000000</td>\n",
              "      <td>31.000000</td>\n",
              "      <td>180.000000</td>\n",
              "      <td>121.000000</td>\n",
              "      <td>90.000000</td>\n",
              "      <td>86.000000</td>\n",
              "      <td>2.568995e+06</td>\n",
              "      <td>892.300000</td>\n",
              "      <td>162.000000</td>\n",
              "      <td>24205.620000</td>\n",
              "      <td>358.680000</td>\n",
              "      <td>33520.270000</td>\n",
              "      <td>7002.190000</td>\n",
              "      <td>16.000000</td>\n",
              "      <td>180.000000</td>\n",
              "      <td>14.000000</td>\n",
              "      <td>496651.000000</td>\n",
              "      <td>8.000078e+06</td>\n",
              "      <td>9.999999e+06</td>\n",
              "      <td>1.000000</td>\n",
              "    </tr>\n",
              "  </tbody>\n",
              "</table>\n",
              "</div>"
            ],
            "text/plain": [
              "          member_id      loan_amnt    funded_amnt  funded_amnt_inv  \\\n",
              "count  5.324280e+05  532428.000000  532428.000000    532428.000000   \n",
              "mean   3.500547e+07   14757.595722   14744.271291     14704.926696   \n",
              "std    2.412148e+07    8434.420080    8429.139277      8441.290381   \n",
              "min    7.047300e+04     500.000000     500.000000         0.000000   \n",
              "25%    1.086688e+07    8000.000000    8000.000000      8000.000000   \n",
              "50%    3.709590e+07   13000.000000   13000.000000     13000.000000   \n",
              "75%    5.848920e+07   20000.000000   20000.000000     20000.000000   \n",
              "max    7.354484e+07   35000.000000   35000.000000     35000.000000   \n",
              "\n",
              "            int_rate    annual_inc            dti    delinq_2yrs  \\\n",
              "count  532428.000000  5.324250e+05  532428.000000  532412.000000   \n",
              "mean       13.242969  7.502984e+04      18.138767       0.314448   \n",
              "std         4.379611  6.519985e+04       8.369074       0.860045   \n",
              "min         5.320000  1.200000e+03       0.000000       0.000000   \n",
              "25%         9.990000  4.500000e+04      11.930000       0.000000   \n",
              "50%        12.990000  6.500000e+04      17.650000       0.000000   \n",
              "75%        16.200000  9.000000e+04      23.950000       0.000000   \n",
              "max        28.990000  9.500000e+06     672.520000      30.000000   \n",
              "\n",
              "       inq_last_6mths  mths_since_last_delinq  mths_since_last_record  \\\n",
              "count   532412.000000           259874.000000            82123.000000   \n",
              "mean         0.694603               34.055735               70.093068   \n",
              "std          0.997025               21.884797               28.139219   \n",
              "min          0.000000                0.000000                0.000000   \n",
              "25%          0.000000               15.000000               51.000000   \n",
              "50%          0.000000               31.000000               70.000000   \n",
              "75%          1.000000               50.000000               92.000000   \n",
              "max         31.000000              180.000000              121.000000   \n",
              "\n",
              "            open_acc        pub_rec     revol_bal     revol_util  \\\n",
              "count  532412.000000  532412.000000  5.324280e+05  532141.000000   \n",
              "mean       11.545594       0.194858  1.692128e+04      55.057189   \n",
              "std         5.311442       0.583822  2.242322e+04      23.853436   \n",
              "min         0.000000       0.000000  0.000000e+00       0.000000   \n",
              "25%         8.000000       0.000000  6.444000e+03      37.700000   \n",
              "50%        11.000000       0.000000  1.187600e+04      56.000000   \n",
              "75%        14.000000       0.000000  2.084300e+04      73.600000   \n",
              "max        90.000000      86.000000  2.568995e+06     892.300000   \n",
              "\n",
              "           total_acc  total_rec_int  total_rec_late_fee     recoveries  \\\n",
              "count  532412.000000  532428.000000       532428.000000  532428.000000   \n",
              "mean       25.267357    1753.428788            0.394954      45.717832   \n",
              "std        11.843211    2093.199837            4.091546     409.647467   \n",
              "min         1.000000       0.000000            0.000000       0.000000   \n",
              "25%        17.000000     441.600000            0.000000       0.000000   \n",
              "50%        24.000000    1072.690000            0.000000       0.000000   \n",
              "75%        32.000000    2234.735000            0.000000       0.000000   \n",
              "max       162.000000   24205.620000          358.680000   33520.270000   \n",
              "\n",
              "       collection_recovery_fee  collections_12_mths_ex_med  \\\n",
              "count            532428.000000               532333.000000   \n",
              "mean                  4.859221                    0.014299   \n",
              "std                  63.123361                    0.133005   \n",
              "min                   0.000000                    0.000000   \n",
              "25%                   0.000000                    0.000000   \n",
              "50%                   0.000000                    0.000000   \n",
              "75%                   0.000000                    0.000000   \n",
              "max                7002.190000                   16.000000   \n",
              "\n",
              "       mths_since_last_major_derog  acc_now_delinq   tot_coll_amt  \\\n",
              "count                132980.000000   532412.000000  490424.000000   \n",
              "mean                     44.121462        0.005015     213.562222   \n",
              "std                      22.198410        0.079117    1958.571538   \n",
              "min                       0.000000        0.000000       0.000000   \n",
              "25%                      27.000000        0.000000       0.000000   \n",
              "50%                      44.000000        0.000000       0.000000   \n",
              "75%                      61.000000        0.000000       0.000000   \n",
              "max                     180.000000       14.000000  496651.000000   \n",
              "\n",
              "        tot_cur_bal  total_rev_hi_lim    loan_status  \n",
              "count  4.904240e+05      4.904240e+05  532428.000000  \n",
              "mean   1.395541e+05      3.208057e+04       0.236327  \n",
              "std    1.539149e+05      3.805304e+04       0.424826  \n",
              "min    0.000000e+00      0.000000e+00       0.000000  \n",
              "25%    2.983975e+04      1.400000e+04       0.000000  \n",
              "50%    8.066950e+04      2.370000e+04       0.000000  \n",
              "75%    2.084792e+05      3.980000e+04       0.000000  \n",
              "max    8.000078e+06      9.999999e+06       1.000000  "
            ]
          },
          "metadata": {
            "tags": []
          },
          "execution_count": 7
        }
      ]
    },
    {
      "cell_type": "markdown",
      "metadata": {
        "id": "VNRyD9k6-_Vq",
        "colab_type": "text"
      },
      "source": [
        "##### Checking Percentage Null"
      ]
    },
    {
      "cell_type": "code",
      "metadata": {
        "id": "zHP6JPo_-_Vr",
        "colab_type": "code",
        "colab": {}
      },
      "source": [
        "# Writing a function which checks Percentage of Null values in each column in a Database\n",
        "def null_perc(df):\n",
        "    null_columns=df.columns[df.isnull().any()]\n",
        "    for i in range(0,len(null_columns)):\n",
        "        print(null_columns[i],':',round(100*df[null_columns[i]].isnull().sum()/len(df),3),'%')"
      ],
      "execution_count": 0,
      "outputs": []
    },
    {
      "cell_type": "code",
      "metadata": {
        "id": "HIg2MsfI-_Vw",
        "colab_type": "code",
        "outputId": "246b41ab-5a44-4732-d1e2-a7c5832b4f00",
        "colab": {
          "base_uri": "https://localhost:8080/",
          "height": 799
        }
      },
      "source": [
        "# Checking Null Percentages in training Database\n",
        "print('Train')\n",
        "null_perc(train)\n",
        "# Checking Null Percentages in the test database\n",
        "\n",
        "print('\\n\\nTest')\n",
        "null_perc(test)"
      ],
      "execution_count": 9,
      "outputs": [
        {
          "output_type": "stream",
          "text": [
            "Train\n",
            "batch_enrolled : 15.993 %\n",
            "emp_title : 5.791 %\n",
            "emp_length : 5.051 %\n",
            "annual_inc : 0.001 %\n",
            "desc : 85.801 %\n",
            "title : 0.017 %\n",
            "delinq_2yrs : 0.003 %\n",
            "inq_last_6mths : 0.003 %\n",
            "mths_since_last_delinq : 51.191 %\n",
            "mths_since_last_record : 84.576 %\n",
            "open_acc : 0.003 %\n",
            "pub_rec : 0.003 %\n",
            "revol_util : 0.054 %\n",
            "total_acc : 0.003 %\n",
            "collections_12_mths_ex_med : 0.018 %\n",
            "mths_since_last_major_derog : 75.024 %\n",
            "verification_status_joint : 99.943 %\n",
            "acc_now_delinq : 0.003 %\n",
            "tot_coll_amt : 7.889 %\n",
            "tot_cur_bal : 7.889 %\n",
            "total_rev_hi_lim : 7.889 %\n",
            "\n",
            "\n",
            "Test\n",
            "batch_enrolled : 12.847 %\n",
            "emp_title : 5.812 %\n",
            "emp_length : 5.053 %\n",
            "annual_inc : 0.0 %\n",
            "desc : 85.863 %\n",
            "title : 0.017 %\n",
            "delinq_2yrs : 0.004 %\n",
            "inq_last_6mths : 0.004 %\n",
            "mths_since_last_delinq : 51.207 %\n",
            "mths_since_last_record : 84.525 %\n",
            "open_acc : 0.004 %\n",
            "pub_rec : 0.004 %\n",
            "revol_util : 0.061 %\n",
            "total_acc : 0.004 %\n",
            "collections_12_mths_ex_med : 0.014 %\n",
            "mths_since_last_major_derog : 75.004 %\n",
            "verification_status_joint : 99.942 %\n",
            "acc_now_delinq : 0.004 %\n",
            "tot_coll_amt : 7.965 %\n",
            "tot_cur_bal : 7.965 %\n",
            "total_rev_hi_lim : 7.965 %\n"
          ],
          "name": "stdout"
        }
      ]
    },
    {
      "cell_type": "markdown",
      "metadata": {
        "id": "KSWx5Uf8-_V0",
        "colab_type": "text"
      },
      "source": [
        "##### Treating Missing Values \n",
        "\n",
        "* From this information, we can get rid of 'verification_status_joint' and 'desc' columns because they are mostly Nulls\n",
        "* 'total_rev_hi_lim','tot_cur_bal' and 'tot_coll_amt' have similar columns containing Nulls.\n",
        "* Impute Nulls in the following columns by 0 : 'mths_since_last_delinq','mths_since_last_record'\n",
        "* Use Multivariate Imputer to impute the following columns: 'tot_coll_amt', 'tot_cur_bal', 'total_rev_hi_lim'"
      ]
    },
    {
      "cell_type": "markdown",
      "metadata": {
        "id": "1LxDr4WV-_V1",
        "colab_type": "text"
      },
      "source": [
        "batch_enrolled : exclude\n",
        "\n",
        "emp_title : exclude\n",
        "\n",
        "emp_length :Median\n",
        "\n",
        "annual_inc : Median\n",
        "\n",
        "desc : exclude\n",
        "\n",
        "title : Exclude\n",
        "\n",
        "delinq_2yrs : Impute to 0\n",
        "\n",
        "inq_last_6mths : impute to 0 \n",
        "\n",
        "mths_since_last_delinq : Median\n",
        "mths_since_last_record : Median\n",
        "open_acc : Median\n",
        "\n",
        "pub_rec : Median\n",
        "\n",
        "revol_util : Median\n",
        "\n",
        "total_acc : Median\n",
        "\n",
        "collections_12_mths_ex_med : Impute to 0\n",
        "\n",
        "mths_since_last_major_derog : Impute to 0 \n",
        "\n",
        "verification_status_joint : Median\n",
        "\n",
        "acc_now_delinq : Impute to 0 \n",
        "\n",
        "tot_coll_amt : Median\n",
        "\n",
        "tot_cur_bal : Median\n",
        "\n",
        "total_rev_hi_lim : Median"
      ]
    },
    {
      "cell_type": "markdown",
      "metadata": {
        "id": "xnp1pqyi-_V1",
        "colab_type": "text"
      },
      "source": [
        "## Data Cleaning"
      ]
    },
    {
      "cell_type": "markdown",
      "metadata": {
        "id": "HyncW9XH-_V2",
        "colab_type": "text"
      },
      "source": [
        "#####  Creating Dummy variables/ Treating categorical variables"
      ]
    },
    {
      "cell_type": "code",
      "metadata": {
        "scrolled": true,
        "id": "INDfP-Yk-_V8",
        "colab_type": "code",
        "outputId": "7c97f8ae-5a39-4a1a-b239-62180ad935c3",
        "colab": {
          "base_uri": "https://localhost:8080/",
          "height": 340
        }
      },
      "source": [
        "cat_var=train.select_dtypes(exclude =['float64', 'int64'] ).columns\n",
        "print('Getting unique factors for categorical variables')\n",
        "for i in list(cat_var):\n",
        "    print(i,':',len(train[i].unique()))"
      ],
      "execution_count": 10,
      "outputs": [
        {
          "output_type": "stream",
          "text": [
            "Getting unique factors for categorical variables\n",
            "term : 2\n",
            "batch_enrolled : 105\n",
            "grade : 7\n",
            "sub_grade : 35\n",
            "emp_title : 190125\n",
            "emp_length : 12\n",
            "home_ownership : 6\n",
            "verification_status : 3\n",
            "pymnt_plan : 2\n",
            "desc : 70639\n",
            "purpose : 14\n",
            "title : 39694\n",
            "zip_code : 917\n",
            "addr_state : 51\n",
            "initial_list_status : 2\n",
            "application_type : 2\n",
            "verification_status_joint : 4\n",
            "last_week_pay : 98\n"
          ],
          "name": "stdout"
        }
      ]
    },
    {
      "cell_type": "markdown",
      "metadata": {
        "id": "xL7J3Jch-_WC",
        "colab_type": "text"
      },
      "source": [
        "##### Actions:\n",
        "* Get rid of the following columns which contain too many categories: \n",
        "    * desc\n",
        "    * title\n",
        "    * zip_code\n",
        "    * sub_grade\n",
        "    * batch_enrolled\n",
        "    * emp_title\n",
        "    "
      ]
    },
    {
      "cell_type": "code",
      "metadata": {
        "id": "8qjPEBxW-_WD",
        "colab_type": "code",
        "outputId": "ff8323b2-17f6-420f-c4e3-6e2c8c8bdd5d",
        "colab": {
          "base_uri": "https://localhost:8080/",
          "height": 88
        }
      },
      "source": [
        "print('Transform: emp_length from categorical to Numeric data...')\n",
        "train['emp_length'].replace('n/a', '0', inplace=True)\n",
        "test['emp_length'].replace('n/a', '0', inplace=True)\n",
        "train['emp_length'].replace(to_replace=['years','year','<','\\+',' '], value='', regex=True, inplace=True)\n",
        "test['emp_length'].replace(to_replace=['years','year','<','\\+',' '], value='', regex=True, inplace=True)\n",
        "train['emp_length']=pd.to_numeric(train.emp_length)\n",
        "test['emp_length']=pd.to_numeric(test.emp_length)\n",
        "\n",
        "\n",
        "print('Transform: last_week_pay from categorical to Numeric data...')\n",
        "train['last_week_pay'].replace(to_replace=['th week'], value='', regex=True,inplace= True)\n",
        "test['last_week_pay'].replace(to_replace=['th week'], value='', regex=True,inplace= True)\n",
        "train['last_week_pay'].replace(to_replace=['NA'], value='0', regex=True,inplace= True)\n",
        "test['last_week_pay'].replace(to_replace=['NA'], value='0', regex=True,inplace= True)\n",
        "# converting to int\n",
        "train['last_week_pay']=pd.to_numeric(train.last_week_pay)\n",
        "test['last_week_pay']=pd.to_numeric(test.last_week_pay)\n",
        "\n",
        "\n",
        "\n",
        "\n",
        "print('Dropping columns: \"verification_status_joint\",\"zip_code\",\"title\",\"sub_grade\",\"emp_title\" ,\"batch_enrolled\" and \"desc\"  ')\n",
        "train.drop(['verification_status_joint','desc','zip_code','title','sub_grade','emp_title','batch_enrolled'], axis =1,inplace=True)\n",
        "test.drop(['verification_status_joint','desc','zip_code','title','sub_grade','emp_title','batch_enrolled'], axis =1,inplace=True)\n"
      ],
      "execution_count": 11,
      "outputs": [
        {
          "output_type": "stream",
          "text": [
            "Transform: emp_length from categorical to Numeric data...\n",
            "Transform: last_week_pay from categorical to Numeric data...\n",
            "Dropping columns: \"verification_status_joint\",\"zip_code\",\"title\",\"sub_grade\",\"emp_title\" ,\"batch_enrolled\" and \"desc\"  \n"
          ],
          "name": "stdout"
        }
      ]
    },
    {
      "cell_type": "markdown",
      "metadata": {
        "id": "mFja2d3f-_WG",
        "colab_type": "text"
      },
      "source": [
        "# Visualizing Data"
      ]
    },
    {
      "cell_type": "code",
      "metadata": {
        "id": "OnV1VaIT-_WG",
        "colab_type": "code",
        "outputId": "149b53d9-1ef0-46df-e2da-74bd49a8af3c",
        "colab": {
          "base_uri": "https://localhost:8080/",
          "height": 680
        }
      },
      "source": [
        "train.dtypes"
      ],
      "execution_count": 12,
      "outputs": [
        {
          "output_type": "execute_result",
          "data": {
            "text/plain": [
              "member_id                        int64\n",
              "loan_amnt                        int64\n",
              "funded_amnt                      int64\n",
              "funded_amnt_inv                float64\n",
              "term                            object\n",
              "int_rate                       float64\n",
              "grade                           object\n",
              "emp_length                     float64\n",
              "home_ownership                  object\n",
              "annual_inc                     float64\n",
              "verification_status             object\n",
              "pymnt_plan                      object\n",
              "purpose                         object\n",
              "addr_state                      object\n",
              "dti                            float64\n",
              "delinq_2yrs                    float64\n",
              "inq_last_6mths                 float64\n",
              "mths_since_last_delinq         float64\n",
              "mths_since_last_record         float64\n",
              "open_acc                       float64\n",
              "pub_rec                        float64\n",
              "revol_bal                      float64\n",
              "revol_util                     float64\n",
              "total_acc                      float64\n",
              "initial_list_status             object\n",
              "total_rec_int                  float64\n",
              "total_rec_late_fee             float64\n",
              "recoveries                     float64\n",
              "collection_recovery_fee        float64\n",
              "collections_12_mths_ex_med     float64\n",
              "mths_since_last_major_derog    float64\n",
              "application_type                object\n",
              "last_week_pay                    int64\n",
              "acc_now_delinq                 float64\n",
              "tot_coll_amt                   float64\n",
              "tot_cur_bal                    float64\n",
              "total_rev_hi_lim               float64\n",
              "loan_status                      int64\n",
              "dtype: object"
            ]
          },
          "metadata": {
            "tags": []
          },
          "execution_count": 12
        }
      ]
    },
    {
      "cell_type": "code",
      "metadata": {
        "scrolled": true,
        "id": "ox89_BME-_WM",
        "colab_type": "code",
        "outputId": "44d7e14e-4c8d-4323-965e-b9ea43ea8fe6",
        "colab": {
          "base_uri": "https://localhost:8080/",
          "height": 1000
        }
      },
      "source": [
        "train_num=train.select_dtypes(include = ['float64', 'int64'])\n",
        "train_cat=train.select_dtypes(exclude =['float64', 'int64'] )\n",
        "train_num.hist(figsize=(16, 20), bins=50, xlabelsize=10, ylabelsize=10); # ; avoid having the matplotlib verbose informations"
      ],
      "execution_count": 13,
      "outputs": [
        {
          "output_type": "display_data",
          "data": {
            "image/png": "[encoded data removed]",
            "text/plain": [
              "<Figure size 1152x1440 with 30 Axes>"
            ]
          },
          "metadata": {
            "tags": []
          }
        }
      ]
    },
    {
      "cell_type": "markdown",
      "metadata": {
        "id": "TjlMpCKN-_WO",
        "colab_type": "text"
      },
      "source": [
        "#### Annual Income"
      ]
    },
    {
      "cell_type": "code",
      "metadata": {
        "id": "MUtRObJR-_WO",
        "colab_type": "code",
        "outputId": "460517ad-e003-4b55-d855-bbc4830bff6b",
        "colab": {
          "base_uri": "https://localhost:8080/",
          "height": 679
        }
      },
      "source": [
        "# deep dive- individual plots\n",
        "plt.figure(figsize=(9,8))\n",
        "sns.distplot(train['annual_inc'],color = 'g',bins = 100, hist_kws={'alpha':0.4})\n",
        "(train['annual_inc']).describe()"
      ],
      "execution_count": 14,
      "outputs": [
        {
          "output_type": "execute_result",
          "data": {
            "text/plain": [
              "<Figure size 648x576 with 0 Axes>"
            ]
          },
          "metadata": {
            "tags": []
          },
          "execution_count": 14
        },
        {
          "output_type": "execute_result",
          "data": {
            "text/plain": [
              "<matplotlib.axes._subplots.AxesSubplot at 0x7f2e0fb24c50>"
            ]
          },
          "metadata": {
            "tags": []
          },
          "execution_count": 14
        },
        {
          "output_type": "execute_result",
          "data": {
            "text/plain": [
              "count    5.324250e+05\n",
              "mean     7.502984e+04\n",
              "std      6.519985e+04\n",
              "min      1.200000e+03\n",
              "25%      4.500000e+04\n",
              "50%      6.500000e+04\n",
              "75%      9.000000e+04\n",
              "max      9.500000e+06\n",
              "Name: annual_inc, dtype: float64"
            ]
          },
          "metadata": {
            "tags": []
          },
          "execution_count": 14
        },
        {
          "output_type": "display_data",
          "data": {
            "image/png": "[encoded data removed]",
            "text/plain": [
              "<Figure size 648x576 with 1 Axes>"
            ]
          },
          "metadata": {
            "tags": []
          }
        }
      ]
    },
    {
      "cell_type": "markdown",
      "metadata": {
        "id": "JoFnt1Ww-_WS",
        "colab_type": "text"
      },
      "source": [
        "#### Most of the salary lies around 75000. The maximum salary noted is 9.5 Million"
      ]
    },
    {
      "cell_type": "markdown",
      "metadata": {
        "id": "XEHA259j-_WS",
        "colab_type": "text"
      },
      "source": [
        "#### DTI"
      ]
    },
    {
      "cell_type": "code",
      "metadata": {
        "scrolled": true,
        "id": "cFNBdxPq-_WU",
        "colab_type": "code",
        "outputId": "8eea047c-216a-44e4-d967-245081ea5fdd",
        "colab": {
          "base_uri": "https://localhost:8080/",
          "height": 432
        }
      },
      "source": [
        "sns.distplot(train['dti'],color = 'b',bins = 100, hist_kws={'alpha':0.4})\n",
        "(train['dti']).describe()\n",
        "# Most of the cases lie around 18 ()"
      ],
      "execution_count": 15,
      "outputs": [
        {
          "output_type": "execute_result",
          "data": {
            "text/plain": [
              "<matplotlib.axes._subplots.AxesSubplot at 0x7f2e0fbad940>"
            ]
          },
          "metadata": {
            "tags": []
          },
          "execution_count": 15
        },
        {
          "output_type": "execute_result",
          "data": {
            "text/plain": [
              "count    532428.000000\n",
              "mean         18.138767\n",
              "std           8.369074\n",
              "min           0.000000\n",
              "25%          11.930000\n",
              "50%          17.650000\n",
              "75%          23.950000\n",
              "max         672.520000\n",
              "Name: dti, dtype: float64"
            ]
          },
          "metadata": {
            "tags": []
          },
          "execution_count": 15
        },
        {
          "output_type": "display_data",
          "data": {
            "image/png": "[encoded data removed]",
            "text/plain": [
              "<Figure size 432x288 with 1 Axes>"
            ]
          },
          "metadata": {
            "tags": []
          }
        }
      ]
    },
    {
      "cell_type": "markdown",
      "metadata": {
        "id": "YmLviOQs-_WW",
        "colab_type": "text"
      },
      "source": [
        "#### Recoveries"
      ]
    },
    {
      "cell_type": "code",
      "metadata": {
        "id": "b4SZ2zu0-_WX",
        "colab_type": "code",
        "outputId": "5e7c01ff-a8bc-4abe-d1d6-bb0422505942",
        "colab": {
          "base_uri": "https://localhost:8080/",
          "height": 170
        }
      },
      "source": [
        "(train['recoveries']).describe()"
      ],
      "execution_count": 16,
      "outputs": [
        {
          "output_type": "execute_result",
          "data": {
            "text/plain": [
              "count    532428.000000\n",
              "mean         45.717832\n",
              "std         409.647467\n",
              "min           0.000000\n",
              "25%           0.000000\n",
              "50%           0.000000\n",
              "75%           0.000000\n",
              "max       33520.270000\n",
              "Name: recoveries, dtype: float64"
            ]
          },
          "metadata": {
            "tags": []
          },
          "execution_count": 16
        }
      ]
    },
    {
      "cell_type": "code",
      "metadata": {
        "id": "v9HOKNlk-_Wa",
        "colab_type": "code",
        "outputId": "407e48da-71b1-4a3f-ab37-c44f0e3cd091",
        "colab": {
          "base_uri": "https://localhost:8080/",
          "height": 609
        }
      },
      "source": [
        "train_cat"
      ],
      "execution_count": 17,
      "outputs": [
        {
          "output_type": "execute_result",
          "data": {
            "text/html": [
              "<div>\n",
              "<style scoped>\n",
              "    .dataframe tbody tr th:only-of-type {\n",
              "        vertical-align: middle;\n",
              "    }\n",
              "\n",
              "    .dataframe tbody tr th {\n",
              "        vertical-align: top;\n",
              "    }\n",
              "\n",
              "    .dataframe thead th {\n",
              "        text-align: right;\n",
              "    }\n",
              "</style>\n",
              "<table border=\"1\" class=\"dataframe\">\n",
              "  <thead>\n",
              "    <tr style=\"text-align: right;\">\n",
              "      <th></th>\n",
              "      <th>term</th>\n",
              "      <th>grade</th>\n",
              "      <th>home_ownership</th>\n",
              "      <th>verification_status</th>\n",
              "      <th>pymnt_plan</th>\n",
              "      <th>purpose</th>\n",
              "      <th>addr_state</th>\n",
              "      <th>initial_list_status</th>\n",
              "      <th>application_type</th>\n",
              "    </tr>\n",
              "  </thead>\n",
              "  <tbody>\n",
              "    <tr>\n",
              "      <th>0</th>\n",
              "      <td>36 months</td>\n",
              "      <td>E</td>\n",
              "      <td>OWN</td>\n",
              "      <td>Source Verified</td>\n",
              "      <td>n</td>\n",
              "      <td>debt_consolidation</td>\n",
              "      <td>FL</td>\n",
              "      <td>f</td>\n",
              "      <td>INDIVIDUAL</td>\n",
              "    </tr>\n",
              "    <tr>\n",
              "      <th>1</th>\n",
              "      <td>36 months</td>\n",
              "      <td>B</td>\n",
              "      <td>MORTGAGE</td>\n",
              "      <td>Source Verified</td>\n",
              "      <td>n</td>\n",
              "      <td>home_improvement</td>\n",
              "      <td>MD</td>\n",
              "      <td>w</td>\n",
              "      <td>INDIVIDUAL</td>\n",
              "    </tr>\n",
              "    <tr>\n",
              "      <th>2</th>\n",
              "      <td>36 months</td>\n",
              "      <td>A</td>\n",
              "      <td>OWN</td>\n",
              "      <td>Not Verified</td>\n",
              "      <td>n</td>\n",
              "      <td>debt_consolidation</td>\n",
              "      <td>OH</td>\n",
              "      <td>w</td>\n",
              "      <td>INDIVIDUAL</td>\n",
              "    </tr>\n",
              "    <tr>\n",
              "      <th>3</th>\n",
              "      <td>36 months</td>\n",
              "      <td>D</td>\n",
              "      <td>RENT</td>\n",
              "      <td>Not Verified</td>\n",
              "      <td>n</td>\n",
              "      <td>debt_consolidation</td>\n",
              "      <td>VA</td>\n",
              "      <td>f</td>\n",
              "      <td>INDIVIDUAL</td>\n",
              "    </tr>\n",
              "    <tr>\n",
              "      <th>4</th>\n",
              "      <td>36 months</td>\n",
              "      <td>B</td>\n",
              "      <td>RENT</td>\n",
              "      <td>Verified</td>\n",
              "      <td>n</td>\n",
              "      <td>credit_card</td>\n",
              "      <td>CA</td>\n",
              "      <td>w</td>\n",
              "      <td>INDIVIDUAL</td>\n",
              "    </tr>\n",
              "    <tr>\n",
              "      <th>...</th>\n",
              "      <td>...</td>\n",
              "      <td>...</td>\n",
              "      <td>...</td>\n",
              "      <td>...</td>\n",
              "      <td>...</td>\n",
              "      <td>...</td>\n",
              "      <td>...</td>\n",
              "      <td>...</td>\n",
              "      <td>...</td>\n",
              "    </tr>\n",
              "    <tr>\n",
              "      <th>532423</th>\n",
              "      <td>36 months</td>\n",
              "      <td>B</td>\n",
              "      <td>MORTGAGE</td>\n",
              "      <td>Source Verified</td>\n",
              "      <td>n</td>\n",
              "      <td>debt_consolidation</td>\n",
              "      <td>MI</td>\n",
              "      <td>f</td>\n",
              "      <td>INDIVIDUAL</td>\n",
              "    </tr>\n",
              "    <tr>\n",
              "      <th>532424</th>\n",
              "      <td>60 months</td>\n",
              "      <td>C</td>\n",
              "      <td>MORTGAGE</td>\n",
              "      <td>Not Verified</td>\n",
              "      <td>n</td>\n",
              "      <td>debt_consolidation</td>\n",
              "      <td>MI</td>\n",
              "      <td>w</td>\n",
              "      <td>INDIVIDUAL</td>\n",
              "    </tr>\n",
              "    <tr>\n",
              "      <th>532425</th>\n",
              "      <td>60 months</td>\n",
              "      <td>E</td>\n",
              "      <td>RENT</td>\n",
              "      <td>Verified</td>\n",
              "      <td>n</td>\n",
              "      <td>debt_consolidation</td>\n",
              "      <td>TN</td>\n",
              "      <td>f</td>\n",
              "      <td>INDIVIDUAL</td>\n",
              "    </tr>\n",
              "    <tr>\n",
              "      <th>532426</th>\n",
              "      <td>60 months</td>\n",
              "      <td>D</td>\n",
              "      <td>RENT</td>\n",
              "      <td>Source Verified</td>\n",
              "      <td>n</td>\n",
              "      <td>credit_card</td>\n",
              "      <td>OH</td>\n",
              "      <td>w</td>\n",
              "      <td>INDIVIDUAL</td>\n",
              "    </tr>\n",
              "    <tr>\n",
              "      <th>532427</th>\n",
              "      <td>36 months</td>\n",
              "      <td>A</td>\n",
              "      <td>RENT</td>\n",
              "      <td>Not Verified</td>\n",
              "      <td>n</td>\n",
              "      <td>debt_consolidation</td>\n",
              "      <td>CA</td>\n",
              "      <td>f</td>\n",
              "      <td>INDIVIDUAL</td>\n",
              "    </tr>\n",
              "  </tbody>\n",
              "</table>\n",
              "<p>532428 rows × 9 columns</p>\n",
              "</div>"
            ],
            "text/plain": [
              "             term grade home_ownership verification_status pymnt_plan  \\\n",
              "0       36 months     E            OWN     Source Verified          n   \n",
              "1       36 months     B       MORTGAGE     Source Verified          n   \n",
              "2       36 months     A            OWN        Not Verified          n   \n",
              "3       36 months     D           RENT        Not Verified          n   \n",
              "4       36 months     B           RENT            Verified          n   \n",
              "...           ...   ...            ...                 ...        ...   \n",
              "532423  36 months     B       MORTGAGE     Source Verified          n   \n",
              "532424  60 months     C       MORTGAGE        Not Verified          n   \n",
              "532425  60 months     E           RENT            Verified          n   \n",
              "532426  60 months     D           RENT     Source Verified          n   \n",
              "532427  36 months     A           RENT        Not Verified          n   \n",
              "\n",
              "                   purpose addr_state initial_list_status application_type  \n",
              "0       debt_consolidation         FL                   f       INDIVIDUAL  \n",
              "1         home_improvement         MD                   w       INDIVIDUAL  \n",
              "2       debt_consolidation         OH                   w       INDIVIDUAL  \n",
              "3       debt_consolidation         VA                   f       INDIVIDUAL  \n",
              "4              credit_card         CA                   w       INDIVIDUAL  \n",
              "...                    ...        ...                 ...              ...  \n",
              "532423  debt_consolidation         MI                   f       INDIVIDUAL  \n",
              "532424  debt_consolidation         MI                   w       INDIVIDUAL  \n",
              "532425  debt_consolidation         TN                   f       INDIVIDUAL  \n",
              "532426         credit_card         OH                   w       INDIVIDUAL  \n",
              "532427  debt_consolidation         CA                   f       INDIVIDUAL  \n",
              "\n",
              "[532428 rows x 9 columns]"
            ]
          },
          "metadata": {
            "tags": []
          },
          "execution_count": 17
        }
      ]
    },
    {
      "cell_type": "markdown",
      "metadata": {
        "id": "POm1SS6g-_Wd",
        "colab_type": "text"
      },
      "source": [
        "### Lets look at some categorical data!"
      ]
    },
    {
      "cell_type": "code",
      "metadata": {
        "id": "xSAv63E0-_We",
        "colab_type": "code",
        "colab": {}
      },
      "source": [
        "# Creating a function to get percentage of occurances of categories in the dat\n",
        "def value_perc(df,col):\n",
        "    col_names= df[col].value_counts().index.to_list()\n",
        "    values = df[col].value_counts()\n",
        "    for i in range(0,len(values)):\n",
        "        print(col_names[i],\":\",round(100*values[i]/len(df),2),'%')"
      ],
      "execution_count": 0,
      "outputs": []
    },
    {
      "cell_type": "markdown",
      "metadata": {
        "id": "dbLxbaHP-_Wk",
        "colab_type": "text"
      },
      "source": [
        "#### 1. Term "
      ]
    },
    {
      "cell_type": "code",
      "metadata": {
        "id": "o8QQDhQQ-_Wl",
        "colab_type": "code",
        "outputId": "feb9a882-770b-4951-e381-6684517c3eb6",
        "colab": {
          "base_uri": "https://localhost:8080/",
          "height": 488
        }
      },
      "source": [
        "g = sns.catplot(x=\"term\", hue=\"loan_status\",\n",
        "                data=train, kind=\"count\",\n",
        "                height=5, aspect=1);\n",
        "print(\"Training Data  Distribution\")\n",
        "value_perc(train,'term')\n",
        "print(\"\\nTest Data  Distribution\")\n",
        "value_perc(test,'term')"
      ],
      "execution_count": 19,
      "outputs": [
        {
          "output_type": "stream",
          "text": [
            "Training Data  Distribution\n",
            "36 months : 70.02 %\n",
            "60 months : 29.98 %\n",
            "\n",
            "Test Data  Distribution\n",
            "36 months : 69.96 %\n",
            "60 months : 30.04 %\n"
          ],
          "name": "stdout"
        },
        {
          "output_type": "display_data",
          "data": {
            "image/png": "[encoded data removed]",
            "text/plain": [
              "<Figure size 425.125x360 with 1 Axes>"
            ]
          },
          "metadata": {
            "tags": []
          }
        }
      ]
    },
    {
      "cell_type": "markdown",
      "metadata": {
        "id": "4WrgDwYh-_Wo",
        "colab_type": "text"
      },
      "source": [
        "#### 2. Grade"
      ]
    },
    {
      "cell_type": "code",
      "metadata": {
        "scrolled": false,
        "id": "RLq10hLT-_Wp",
        "colab_type": "code",
        "outputId": "7ff7e869-9107-4509-ae3a-6827231b1e3b",
        "colab": {
          "base_uri": "https://localhost:8080/",
          "height": 658
        }
      },
      "source": [
        "g = sns.catplot(x=\"grade\", hue=\"loan_status\",\n",
        "                data=train, kind=\"count\",\n",
        "                height=5, aspect=1);\n",
        "print(\"Training Data  Distribution\")\n",
        "value_perc(train,'grade')\n",
        "print(\"\\nTest Data  Distribution\")\n",
        "value_perc(test,'grade')"
      ],
      "execution_count": 20,
      "outputs": [
        {
          "output_type": "stream",
          "text": [
            "Training Data  Distribution\n",
            "B : 28.68 %\n",
            "C : 27.7 %\n",
            "A : 16.74 %\n",
            "D : 15.7 %\n",
            "E : 7.98 %\n",
            "F : 2.6 %\n",
            "G : 0.6 %\n",
            "\n",
            "Test Data  Distribution\n",
            "B : 28.69 %\n",
            "C : 27.71 %\n",
            "A : 16.65 %\n",
            "D : 15.77 %\n",
            "E : 7.95 %\n",
            "F : 2.6 %\n",
            "G : 0.64 %\n"
          ],
          "name": "stdout"
        },
        {
          "output_type": "display_data",
          "data": {
            "image/png": "[encoded data removed]",
            "text/plain": [
              "<Figure size 425.125x360 with 1 Axes>"
            ]
          },
          "metadata": {
            "tags": []
          }
        }
      ]
    },
    {
      "cell_type": "markdown",
      "metadata": {
        "id": "FC8tVT03-_Wt",
        "colab_type": "text"
      },
      "source": [
        "* We can see that grade e, f and g have a very small percentage of distribution. we can club these together to reduce dimentionality"
      ]
    },
    {
      "cell_type": "code",
      "metadata": {
        "id": "ntXOy9zA-_Wt",
        "colab_type": "code",
        "outputId": "4d973dba-ff95-45e1-f0c8-e2d3999d2ff5",
        "colab": {
          "base_uri": "https://localhost:8080/",
          "height": 590
        }
      },
      "source": [
        "# Replacing grades to reduce dimentionality of data\n",
        "train['grade'].replace(['E','F','G'], 'Other', inplace=True)\n",
        "test['grade'].replace(['E','F','G'], 'Other', inplace=True)\n",
        "g = sns.catplot(x=\"grade\", hue=\"loan_status\",\n",
        "                data=train, kind=\"count\",\n",
        "                height=5, aspect=1);\n",
        "print(\"Training Data  Distribution\")\n",
        "value_perc(train,'grade')\n",
        "print(\"\\nTest Data  Distribution\")\n",
        "value_perc(test,'grade')\n"
      ],
      "execution_count": 21,
      "outputs": [
        {
          "output_type": "stream",
          "text": [
            "Training Data  Distribution\n",
            "B : 28.68 %\n",
            "C : 27.7 %\n",
            "A : 16.74 %\n",
            "D : 15.7 %\n",
            "Other : 11.18 %\n",
            "\n",
            "Test Data  Distribution\n",
            "B : 28.69 %\n",
            "C : 27.71 %\n",
            "A : 16.65 %\n",
            "D : 15.77 %\n",
            "Other : 11.18 %\n"
          ],
          "name": "stdout"
        },
        {
          "output_type": "display_data",
          "data": {
            "image/png": "[encoded data removed]",
            "text/plain": [
              "<Figure size 425.125x360 with 1 Axes>"
            ]
          },
          "metadata": {
            "tags": []
          }
        }
      ]
    },
    {
      "cell_type": "markdown",
      "metadata": {
        "id": "WYtjluCG-_Wx",
        "colab_type": "text"
      },
      "source": [
        "####  3.  Home ownership"
      ]
    },
    {
      "cell_type": "code",
      "metadata": {
        "scrolled": true,
        "id": "mWQJZkaZ-_Wx",
        "colab_type": "code",
        "outputId": "8d609bc8-a287-40c2-9131-715ac9818448",
        "colab": {
          "base_uri": "https://localhost:8080/",
          "height": 607
        }
      },
      "source": [
        "g = sns.catplot(x=\"home_ownership\", hue=\"loan_status\",\n",
        "                data=train, kind=\"count\",\n",
        "                height=5, aspect=1);\n",
        "print(\"Training Data  Distribution\")\n",
        "value_perc(train,'home_ownership')\n",
        "print(\"\\nTest Data  Distribution\")\n",
        "value_perc(test,'home_ownership')"
      ],
      "execution_count": 22,
      "outputs": [
        {
          "output_type": "stream",
          "text": [
            "Training Data  Distribution\n",
            "MORTGAGE : 49.95 %\n",
            "RENT : 40.13 %\n",
            "OWN : 9.89 %\n",
            "OTHER : 0.02 %\n",
            "NONE : 0.01 %\n",
            "ANY : 0.0 %\n",
            "\n",
            "Test Data  Distribution\n",
            "MORTGAGE : 50.04 %\n",
            "RENT : 40.13 %\n",
            "OWN : 9.81 %\n",
            "OTHER : 0.02 %\n",
            "NONE : 0.0 %\n"
          ],
          "name": "stdout"
        },
        {
          "output_type": "display_data",
          "data": {
            "image/png": "[encoded data removed]",
            "text/plain": [
              "<Figure size 425.125x360 with 1 Axes>"
            ]
          },
          "metadata": {
            "tags": []
          }
        }
      ]
    },
    {
      "cell_type": "markdown",
      "metadata": {
        "id": "k_agMDjz-_W0",
        "colab_type": "text"
      },
      "source": [
        "* We can see that Other, None and Any form a very small part of the distribution, we will club all of the above into others"
      ]
    },
    {
      "cell_type": "code",
      "metadata": {
        "id": "77JwQEIZ-_W1",
        "colab_type": "code",
        "outputId": "16b7558e-09df-4278-f1b3-c531633a7328",
        "colab": {
          "base_uri": "https://localhost:8080/",
          "height": 556
        }
      },
      "source": [
        "# Replacing home ownerships to reduce dimentionality of data\n",
        "train['home_ownership'].replace(['OTHER','NONE','ANY'], 'Other', inplace=True)\n",
        "test['home_ownership'].replace(['OTHER','NONE','ANY'], 'Other', inplace=True)\n",
        "g = sns.catplot(x=\"home_ownership\", hue=\"loan_status\",\n",
        "                data=train, kind=\"count\",\n",
        "                height=5, aspect=1);\n",
        "print(\"Training Data  Distribution\")\n",
        "value_perc(train,'home_ownership')\n",
        "print(\"\\nTest Data  Distribution\")\n",
        "value_perc(test,'home_ownership')\n"
      ],
      "execution_count": 23,
      "outputs": [
        {
          "output_type": "stream",
          "text": [
            "Training Data  Distribution\n",
            "MORTGAGE : 49.95 %\n",
            "RENT : 40.13 %\n",
            "OWN : 9.89 %\n",
            "Other : 0.03 %\n",
            "\n",
            "Test Data  Distribution\n",
            "MORTGAGE : 50.04 %\n",
            "RENT : 40.13 %\n",
            "OWN : 9.81 %\n",
            "Other : 0.02 %\n"
          ],
          "name": "stdout"
        },
        {
          "output_type": "display_data",
          "data": {
            "image/png": "[encoded data removed]",
            "text/plain": [
              "<Figure size 425.125x360 with 1 Axes>"
            ]
          },
          "metadata": {
            "tags": []
          }
        }
      ]
    },
    {
      "cell_type": "markdown",
      "metadata": {
        "id": "u1Ic-9Bz-_W7",
        "colab_type": "text"
      },
      "source": [
        "#### 4. Verification status"
      ]
    },
    {
      "cell_type": "code",
      "metadata": {
        "id": "5g5aPxqj-_W7",
        "colab_type": "code",
        "outputId": "aa05d26b-dddd-41e5-cc85-7abd5f9ba16c",
        "colab": {
          "base_uri": "https://localhost:8080/",
          "height": 522
        }
      },
      "source": [
        "g = sns.catplot(x=\"verification_status\", hue=\"loan_status\",\n",
        "                data=train, kind=\"count\",\n",
        "                height=5, aspect=1);\n",
        "print(\"Training Data  Distribution\")\n",
        "value_perc(train,'verification_status')\n",
        "print(\"\\nTest Data  Distribution\")\n",
        "value_perc(test,'verification_status')"
      ],
      "execution_count": 24,
      "outputs": [
        {
          "output_type": "stream",
          "text": [
            "Training Data  Distribution\n",
            "Source Verified : 37.14 %\n",
            "Verified : 32.81 %\n",
            "Not Verified : 30.05 %\n",
            "\n",
            "Test Data  Distribution\n",
            "Source Verified : 37.13 %\n",
            "Verified : 32.78 %\n",
            "Not Verified : 30.08 %\n"
          ],
          "name": "stdout"
        },
        {
          "output_type": "display_data",
          "data": {
            "image/png": "[encoded data removed]",
            "text/plain": [
              "<Figure size 425.125x360 with 1 Axes>"
            ]
          },
          "metadata": {
            "tags": []
          }
        }
      ]
    },
    {
      "cell_type": "markdown",
      "metadata": {
        "id": "KLFn_AZD-_W_",
        "colab_type": "text"
      },
      "source": [
        "#### 5. Payment Plan"
      ]
    },
    {
      "cell_type": "code",
      "metadata": {
        "id": "0DPdJpbG-_XA",
        "colab_type": "code",
        "outputId": "b7a2733e-35e8-4321-f36a-35f2f5db3b70",
        "colab": {
          "base_uri": "https://localhost:8080/",
          "height": 488
        }
      },
      "source": [
        "g = sns.catplot(x=\"pymnt_plan\", hue=\"loan_status\",\n",
        "                data=train, kind=\"count\",\n",
        "                height=5, aspect=1);\n",
        "\n",
        "print(\"Training Data  Distribution\")\n",
        "value_perc(train,'pymnt_plan')\n",
        "print(\"\\nTest Data  Distribution\")\n",
        "value_perc(test,'pymnt_plan')\n"
      ],
      "execution_count": 25,
      "outputs": [
        {
          "output_type": "stream",
          "text": [
            "Training Data  Distribution\n",
            "n : 100.0 %\n",
            "y : 0.0 %\n",
            "\n",
            "Test Data  Distribution\n",
            "n : 100.0 %\n",
            "y : 0.0 %\n"
          ],
          "name": "stdout"
        },
        {
          "output_type": "display_data",
          "data": {
            "image/png": "[encoded data removed]",
            "text/plain": [
              "<Figure size 425.125x360 with 1 Axes>"
            ]
          },
          "metadata": {
            "tags": []
          }
        }
      ]
    },
    {
      "cell_type": "markdown",
      "metadata": {
        "id": "pzlJOOpZ-_XD",
        "colab_type": "text"
      },
      "source": [
        "* because this variable has only one value, we are going to drop this variable"
      ]
    },
    {
      "cell_type": "code",
      "metadata": {
        "id": "aVkIVND7-_XE",
        "colab_type": "code",
        "colab": {}
      },
      "source": [
        "train.drop(['pymnt_plan'], axis =1,inplace=True)\n",
        "test.drop(['pymnt_plan'], axis =1,inplace=True)"
      ],
      "execution_count": 0,
      "outputs": []
    },
    {
      "cell_type": "markdown",
      "metadata": {
        "id": "t2wOXRIu-_XF",
        "colab_type": "text"
      },
      "source": [
        "#### 6. Purpose"
      ]
    },
    {
      "cell_type": "code",
      "metadata": {
        "id": "IdqaelA--_XG",
        "colab_type": "code",
        "outputId": "a3038f74-f094-441d-b83c-60e475a49196",
        "colab": {
          "base_uri": "https://localhost:8080/",
          "height": 743
        }
      },
      "source": [
        "g = sns.catplot(x=\"purpose\", hue=\"loan_status\",\n",
        "                data=train, kind=\"count\",\n",
        "                height=5, aspect=4);\n",
        "\n",
        "print(\"Training Data  Distribution\")\n",
        "value_perc(train,'purpose')\n",
        "print(\"\\nTest Data  Distribution\")\n",
        "value_perc(test,'purpose')"
      ],
      "execution_count": 27,
      "outputs": [
        {
          "output_type": "stream",
          "text": [
            "Training Data  Distribution\n",
            "debt_consolidation : 59.16 %\n",
            "credit_card : 23.23 %\n",
            "home_improvement : 5.84 %\n",
            "other : 4.82 %\n",
            "major_purchase : 1.93 %\n",
            "small_business : 1.15 %\n",
            "car : 0.99 %\n",
            "medical : 0.96 %\n",
            "moving : 0.61 %\n",
            "vacation : 0.53 %\n",
            "house : 0.41 %\n",
            "wedding : 0.26 %\n",
            "renewable_energy : 0.06 %\n",
            "educational : 0.05 %\n",
            "\n",
            "Test Data  Distribution\n",
            "debt_consolidation : 58.95 %\n",
            "credit_card : 23.25 %\n",
            "home_improvement : 5.84 %\n",
            "other : 4.86 %\n",
            "major_purchase : 1.97 %\n",
            "small_business : 1.19 %\n",
            "car : 1.01 %\n",
            "medical : 0.96 %\n",
            "moving : 0.61 %\n",
            "vacation : 0.54 %\n",
            "house : 0.43 %\n",
            "wedding : 0.27 %\n",
            "renewable_energy : 0.07 %\n",
            "educational : 0.05 %\n"
          ],
          "name": "stdout"
        },
        {
          "output_type": "display_data",
          "data": {
            "image/png": "[encoded data removed]",
            "text/plain": [
              "<Figure size 1505.12x360 with 1 Axes>"
            ]
          },
          "metadata": {
            "tags": []
          }
        }
      ]
    },
    {
      "cell_type": "markdown",
      "metadata": {
        "id": "GOjScWOt-_XK",
        "colab_type": "text"
      },
      "source": [
        "* Majority of our loans (60%) are taken for debt consolidation purposes. Debt consolidation is taking loan at a low interest rate to repay many other smaller loans that you might have \n",
        "* We can club the following variables together : 'other', 'major_purchase', 'small_business', 'medical', 'moving', 'vacation', 'house', 'wedding', 'renewable_energy', 'educational' and 'car' as 'Others'"
      ]
    },
    {
      "cell_type": "code",
      "metadata": {
        "id": "gbIKcpj6-_XL",
        "colab_type": "code",
        "outputId": "663cb757-187a-4514-e3b7-72441d05dee7",
        "colab": {
          "base_uri": "https://localhost:8080/",
          "height": 556
        }
      },
      "source": [
        "# Replacing purpose to reduce dimentionality of data\n",
        "train['purpose'].replace(['other', 'major_purchase', 'small_business', 'medical','car', \n",
        "                          'moving', 'vacation', 'house', 'wedding', 'renewable_energy', \n",
        "                          'educational'], 'Other', inplace=True)\n",
        "\n",
        "\n",
        "test['purpose'].replace(['other', 'major_purchase', 'small_business', 'medical','car', \n",
        "                          'moving', 'vacation', 'house', 'wedding', 'renewable_energy', \n",
        "                          'educational'], 'Other', inplace=True)\n",
        "\n",
        "g = sns.catplot(x=\"purpose\", hue=\"loan_status\",\n",
        "                data=train, kind=\"count\",\n",
        "                height=5, aspect=1);\n",
        "print(\"Training Data  Distribution\")\n",
        "value_perc(train,'purpose')\n",
        "print(\"\\nTest Data  Distribution\")\n",
        "value_perc(test,'purpose')\n"
      ],
      "execution_count": 28,
      "outputs": [
        {
          "output_type": "stream",
          "text": [
            "Training Data  Distribution\n",
            "debt_consolidation : 59.16 %\n",
            "credit_card : 23.23 %\n",
            "Other : 11.77 %\n",
            "home_improvement : 5.84 %\n",
            "\n",
            "Test Data  Distribution\n",
            "debt_consolidation : 58.95 %\n",
            "credit_card : 23.25 %\n",
            "Other : 11.97 %\n",
            "home_improvement : 5.84 %\n"
          ],
          "name": "stdout"
        },
        {
          "output_type": "display_data",
          "data": {
            "image/png": "[encoded data removed]",
            "text/plain": [
              "<Figure size 425.125x360 with 1 Axes>"
            ]
          },
          "metadata": {
            "tags": []
          }
        }
      ]
    },
    {
      "cell_type": "markdown",
      "metadata": {
        "id": "8cdLskp7-_XN",
        "colab_type": "text"
      },
      "source": [
        "#### 7. Initial list status"
      ]
    },
    {
      "cell_type": "code",
      "metadata": {
        "scrolled": true,
        "id": "6s2pVy37-_XO",
        "colab_type": "code",
        "outputId": "7ea6da4b-b336-473a-9e4f-5f2c9464ef94",
        "colab": {
          "base_uri": "https://localhost:8080/",
          "height": 488
        }
      },
      "source": [
        "g = sns.catplot(x=\"initial_list_status\", hue=\"loan_status\",\n",
        "                data=train, kind=\"count\",\n",
        "                height=5, aspect=1\n",
        "               );\n",
        "\n",
        "print(\"Training Data  Distribution\")\n",
        "value_perc(train,'initial_list_status')\n",
        "print(\"\\nTest Data  Distribution\")\n",
        "value_perc(test,'initial_list_status')"
      ],
      "execution_count": 29,
      "outputs": [
        {
          "output_type": "stream",
          "text": [
            "Training Data  Distribution\n",
            "f : 51.47 %\n",
            "w : 48.53 %\n",
            "\n",
            "Test Data  Distribution\n",
            "f : 51.51 %\n",
            "w : 48.49 %\n"
          ],
          "name": "stdout"
        },
        {
          "output_type": "display_data",
          "data": {
            "image/png": "[encoded data removed]",
            "text/plain": [
              "<Figure size 425.125x360 with 1 Axes>"
            ]
          },
          "metadata": {
            "tags": []
          }
        }
      ]
    },
    {
      "cell_type": "markdown",
      "metadata": {
        "id": "Tq6dcAro-_XQ",
        "colab_type": "text"
      },
      "source": [
        "#### 8. Application type"
      ]
    },
    {
      "cell_type": "code",
      "metadata": {
        "id": "uAmyuUsZ-_XR",
        "colab_type": "code",
        "outputId": "7c681fe1-8375-436c-a03d-034984d98aa4",
        "colab": {
          "base_uri": "https://localhost:8080/",
          "height": 488
        }
      },
      "source": [
        "g = sns.catplot(x=\"application_type\", hue=\"loan_status\",\n",
        "                data=train, kind=\"count\",\n",
        "                height=5, aspect=1\n",
        "               );\n",
        "\n",
        "print(\"Training Data  Distribution\")\n",
        "value_perc(train,'application_type')\n",
        "print(\"\\nTest Data  Distribution\")\n",
        "value_perc(test,'application_type')\n"
      ],
      "execution_count": 30,
      "outputs": [
        {
          "output_type": "stream",
          "text": [
            "Training Data  Distribution\n",
            "INDIVIDUAL : 99.94 %\n",
            "JOINT : 0.06 %\n",
            "\n",
            "Test Data  Distribution\n",
            "INDIVIDUAL : 99.94 %\n",
            "JOINT : 0.06 %\n"
          ],
          "name": "stdout"
        },
        {
          "output_type": "display_data",
          "data": {
            "image/png": "[encoded data removed]",
            "text/plain": [
              "<Figure size 425.125x360 with 1 Axes>"
            ]
          },
          "metadata": {
            "tags": []
          }
        }
      ]
    },
    {
      "cell_type": "markdown",
      "metadata": {
        "id": "-xkLe12R-_XT",
        "colab_type": "text"
      },
      "source": [
        "* Because majority of the data in this column is 'Indiviual, we are going to drop this column as well'"
      ]
    },
    {
      "cell_type": "code",
      "metadata": {
        "id": "Ei6An4BO-_XT",
        "colab_type": "code",
        "colab": {}
      },
      "source": [
        "train.drop(['application_type'], axis =1,inplace=True)\n",
        "test.drop(['application_type'], axis =1,inplace=True)"
      ],
      "execution_count": 0,
      "outputs": []
    },
    {
      "cell_type": "code",
      "metadata": {
        "id": "XonA3pS8-_XV",
        "colab_type": "code",
        "outputId": "0c468934-f81f-49f7-e916-1fc364f04d2f",
        "colab": {
          "base_uri": "https://localhost:8080/",
          "height": 119
        }
      },
      "source": [
        "# Creating One Hot encodings for categorical variables\n",
        "dummy_cols=['term','grade','home_ownership',\n",
        "            'verification_status',\n",
        "            'purpose','initial_list_status']\n",
        "\n",
        "for i in dummy_cols:\n",
        "    print('creating dummies for column:',i)\n",
        "    train=pd.concat([train,pd.get_dummies(train[i],prefix=i, drop_first=True)], axis = 1)\n",
        "    test=pd.concat([test,pd.get_dummies(test[i],prefix=i, drop_first=True)], axis = 1)"
      ],
      "execution_count": 32,
      "outputs": [
        {
          "output_type": "stream",
          "text": [
            "creating dummies for column: term\n",
            "creating dummies for column: grade\n",
            "creating dummies for column: home_ownership\n",
            "creating dummies for column: verification_status\n",
            "creating dummies for column: purpose\n",
            "creating dummies for column: initial_list_status\n"
          ],
          "name": "stdout"
        }
      ]
    },
    {
      "cell_type": "code",
      "metadata": {
        "id": "kFO9xtWm-_XX",
        "colab_type": "code",
        "colab": {}
      },
      "source": [
        "# Dropping original columns ( because we now have one hot encoded columns)\n",
        "train.drop(dummy_cols, axis =1,inplace=True)\n",
        "test.drop(dummy_cols, axis =1,inplace=True)"
      ],
      "execution_count": 0,
      "outputs": []
    },
    {
      "cell_type": "code",
      "metadata": {
        "id": "1TYK4DOH-_Xc",
        "colab_type": "code",
        "outputId": "e63b9b76-3967-45ed-91da-2e6b3afbcabc",
        "colab": {
          "base_uri": "https://localhost:8080/",
          "height": 34
        }
      },
      "source": [
        "# Checking if test and train have same variables\n",
        "print(set(train.columns)- set(test.columns))"
      ],
      "execution_count": 34,
      "outputs": [
        {
          "output_type": "stream",
          "text": [
            "{'loan_status'}\n"
          ],
          "name": "stdout"
        }
      ]
    },
    {
      "cell_type": "code",
      "metadata": {
        "id": "iPXRlhUQ-_Xg",
        "colab_type": "code",
        "outputId": "78cadc2f-1e65-403f-90eb-ec92c8a7f63c",
        "colab": {
          "base_uri": "https://localhost:8080/",
          "height": 782
        }
      },
      "source": [
        "train.dtypes"
      ],
      "execution_count": 35,
      "outputs": [
        {
          "output_type": "execute_result",
          "data": {
            "text/plain": [
              "member_id                                int64\n",
              "loan_amnt                                int64\n",
              "funded_amnt                              int64\n",
              "funded_amnt_inv                        float64\n",
              "int_rate                               float64\n",
              "emp_length                             float64\n",
              "annual_inc                             float64\n",
              "addr_state                              object\n",
              "dti                                    float64\n",
              "delinq_2yrs                            float64\n",
              "inq_last_6mths                         float64\n",
              "mths_since_last_delinq                 float64\n",
              "mths_since_last_record                 float64\n",
              "open_acc                               float64\n",
              "pub_rec                                float64\n",
              "revol_bal                              float64\n",
              "revol_util                             float64\n",
              "total_acc                              float64\n",
              "total_rec_int                          float64\n",
              "total_rec_late_fee                     float64\n",
              "recoveries                             float64\n",
              "collection_recovery_fee                float64\n",
              "collections_12_mths_ex_med             float64\n",
              "mths_since_last_major_derog            float64\n",
              "last_week_pay                            int64\n",
              "acc_now_delinq                         float64\n",
              "tot_coll_amt                           float64\n",
              "tot_cur_bal                            float64\n",
              "total_rev_hi_lim                       float64\n",
              "loan_status                              int64\n",
              "term_60 months                           uint8\n",
              "grade_B                                  uint8\n",
              "grade_C                                  uint8\n",
              "grade_D                                  uint8\n",
              "grade_Other                              uint8\n",
              "home_ownership_OWN                       uint8\n",
              "home_ownership_Other                     uint8\n",
              "home_ownership_RENT                      uint8\n",
              "verification_status_Source Verified      uint8\n",
              "verification_status_Verified             uint8\n",
              "purpose_credit_card                      uint8\n",
              "purpose_debt_consolidation               uint8\n",
              "purpose_home_improvement                 uint8\n",
              "initial_list_status_w                    uint8\n",
              "dtype: object"
            ]
          },
          "metadata": {
            "tags": []
          },
          "execution_count": 35
        }
      ]
    },
    {
      "cell_type": "code",
      "metadata": {
        "id": "ZueM3UIJ-_Xj",
        "colab_type": "code",
        "colab": {}
      },
      "source": [
        "# Generating a list of column names according to the imputation method\n",
        "zero_impute_cols =['delinq_2yrs','inq_last_6mths','collections_12_mths_ex_med',\n",
        "                   'mths_since_last_major_derog','acc_now_delinq']\n",
        "\n",
        "median_impute_cols =['emp_length','annual_inc','open_acc','pub_rec','revol_util',\n",
        "                     'total_acc','mths_since_last_delinq','mths_since_last_record','tot_coll_amt',\n",
        "                   'tot_cur_bal','total_rev_hi_lim']\n"
      ],
      "execution_count": 0,
      "outputs": []
    },
    {
      "cell_type": "code",
      "metadata": {
        "id": "avn86qyB-_Xl",
        "colab_type": "code",
        "outputId": "bb7d9062-2c1c-42b6-a4c9-d832bcddd034",
        "colab": {
          "base_uri": "https://localhost:8080/",
          "height": 289
        }
      },
      "source": [
        "for col in zero_impute_cols:\n",
        "    print('Imputation with 0: %s' % (col))\n",
        "    train[col].fillna(0, inplace=True)\n",
        "    test[col].fillna(0, inplace=True)\n",
        "\n",
        "for col in median_impute_cols:\n",
        "    print('Imputation with Median: %s' % (col))\n",
        "    train[col].fillna(train[col].median(), inplace=True)\n",
        "    test[col].fillna(test[col].median(), inplace=True)\n",
        "\n"
      ],
      "execution_count": 37,
      "outputs": [
        {
          "output_type": "stream",
          "text": [
            "Imputation with 0: delinq_2yrs\n",
            "Imputation with 0: inq_last_6mths\n",
            "Imputation with 0: collections_12_mths_ex_med\n",
            "Imputation with 0: mths_since_last_major_derog\n",
            "Imputation with 0: acc_now_delinq\n",
            "Imputation with Median: emp_length\n",
            "Imputation with Median: annual_inc\n",
            "Imputation with Median: open_acc\n",
            "Imputation with Median: pub_rec\n",
            "Imputation with Median: revol_util\n",
            "Imputation with Median: total_acc\n",
            "Imputation with Median: mths_since_last_delinq\n",
            "Imputation with Median: mths_since_last_record\n",
            "Imputation with Median: tot_coll_amt\n",
            "Imputation with Median: tot_cur_bal\n",
            "Imputation with Median: total_rev_hi_lim\n"
          ],
          "name": "stdout"
        }
      ]
    },
    {
      "cell_type": "code",
      "metadata": {
        "id": "9_8RmjH--_Xo",
        "colab_type": "code",
        "colab": {}
      },
      "source": [
        "null_perc(test)\n",
        "null_perc(train)"
      ],
      "execution_count": 0,
      "outputs": []
    },
    {
      "cell_type": "markdown",
      "metadata": {
        "id": "bSFC7j-P-_Xq",
        "colab_type": "text"
      },
      "source": [
        "####  Checking Correlations"
      ]
    },
    {
      "cell_type": "code",
      "metadata": {
        "id": "-1ShR6Xv-_Xq",
        "colab_type": "code",
        "outputId": "3e828be4-0146-4804-afc6-09cb01874f44",
        "colab": {
          "base_uri": "https://localhost:8080/",
          "height": 732
        }
      },
      "source": [
        "corr = train_num.drop(['member_id'],axis = 1).corr()\n",
        "plt.figure(figsize=(20, 12))\n",
        "ax = sns.heatmap(\n",
        "    corr, \n",
        "    vmin=-1, vmax=1, center=0,\n",
        "    cmap=sns.diverging_palette(20, 220, n=200),\n",
        "    square=True\n",
        ")\n",
        "ax.set_xticklabels(\n",
        "    ax.get_xticklabels(),\n",
        "    rotation=45,\n",
        "    horizontalalignment='right'\n",
        ");"
      ],
      "execution_count": 39,
      "outputs": [
        {
          "output_type": "display_data",
          "data": {
            "image/png": "[encoded data removed]",
            "text/plain": [
              "<Figure size 1440x864 with 2 Axes>"
            ]
          },
          "metadata": {
            "tags": []
          }
        }
      ]
    },
    {
      "cell_type": "markdown",
      "metadata": {
        "id": "uKAc6LWi-_Xu",
        "colab_type": "text"
      },
      "source": [
        "## Model Building"
      ]
    },
    {
      "cell_type": "markdown",
      "metadata": {
        "id": "sSy5RIK8-_Xy",
        "colab_type": "text"
      },
      "source": [
        "Process for Model Building is as follows:\n",
        "\n",
        "* Divide training data into 3 sets: \n",
        "    * Training Set ( Train using this set)\n",
        "    * Dev Set/ Cross Validation Set ( Tune Hyper parameters using this set)\n",
        "    * Test Set ( Get final evaluation metric using this set)\n",
        "    \n",
        " \n",
        "* We will explore training the following models\n",
        "    * Logistic regression (Elastic Net Regularized)\n",
        "    * XG Boost model\n",
        "    * Neural Network Model\n",
        "    \n",
        "* Our evaluation metric will be AUC of the ROC curve\n",
        "\n",
        "    "
      ]
    },
    {
      "cell_type": "markdown",
      "metadata": {
        "id": "oSH3qgf--_Xy",
        "colab_type": "text"
      },
      "source": [
        "#### Importing required libraries for Model Building Process"
      ]
    },
    {
      "cell_type": "code",
      "metadata": {
        "id": "McZ_uwyO-_Xz",
        "colab_type": "code",
        "colab": {}
      },
      "source": [
        "from sklearn.model_selection import train_test_split\n",
        "from sklearn.linear_model import LogisticRegression\n",
        "from sklearn.ensemble import RandomForestClassifier\n",
        "from sklearn.ensemble import AdaBoostClassifier\n",
        "from sklearn.model_selection import cross_val_score, RandomizedSearchCV, GridSearchCV\n",
        "from sklearn.metrics import roc_curve, auc\n",
        "from sklearn.preprocessing import StandardScaler\n",
        "from sklearn import metrics"
      ],
      "execution_count": 0,
      "outputs": []
    },
    {
      "cell_type": "code",
      "metadata": {
        "id": "D2JV3kVw-_X1",
        "colab_type": "code",
        "colab": {}
      },
      "source": [
        "X= train[list(set(train.columns)-set(['loan_status','addr_state']))]\n",
        "y = train['loan_status']"
      ],
      "execution_count": 0,
      "outputs": []
    },
    {
      "cell_type": "code",
      "metadata": {
        "id": "nSz7l2bC-_X3",
        "colab_type": "code",
        "colab": {}
      },
      "source": [
        "# Splitting data\n",
        "X_train, X_test, y_train, y_test = train_test_split(\n",
        "    X, y, test_size=0.2, random_state=1)"
      ],
      "execution_count": 0,
      "outputs": []
    },
    {
      "cell_type": "code",
      "metadata": {
        "scrolled": true,
        "id": "XxW6tmwb-_X5",
        "colab_type": "code",
        "outputId": "b8aeaf17-46e8-4f00-99c6-ed8ca796d0a4",
        "colab": {
          "base_uri": "https://localhost:8080/",
          "height": 51
        }
      },
      "source": [
        "print('Training set data Percentage:', round(100*len(X_train)/len(train),0))\n",
        "print('Test Set data Percentage:', round(100*len(X_test)/len(train),0))"
      ],
      "execution_count": 0,
      "outputs": [
        {
          "output_type": "stream",
          "text": [
            "Training set data Percentage: 80.0\n",
            "Test Set data Percentage: 20.0\n"
          ],
          "name": "stdout"
        }
      ]
    },
    {
      "cell_type": "markdown",
      "metadata": {
        "id": "q8ZWJp5y-_YB",
        "colab_type": "text"
      },
      "source": [
        "### 1. Logistic Regression with Elastic Net Regularization"
      ]
    },
    {
      "cell_type": "code",
      "metadata": {
        "id": "eqROurKC-_YC",
        "colab_type": "code",
        "outputId": "bc4d4515-026c-4561-96d9-bcd6f7d7c415",
        "colab": {
          "base_uri": "https://localhost:8080/",
          "height": 411
        }
      },
      "source": [
        "parametersGrid = {\"penalty\": ['elasticnet'],\n",
        "                      \"C\": [0.0001, 0.001, 0.01, 0.1, 1, 10, 100],\n",
        "                      \"solver\":['saga'],\n",
        "                      \"l1_ratio\": np.arange(0.0, 1.0, 0.1)}\n",
        "scaler = StandardScaler()\n",
        "scaled_X_train = scaler.fit_transform(X_train)\n",
        "eNet =LogisticRegression()\n",
        "grid = RandomizedSearchCV(estimator=eNet,\n",
        "                            param_distributions=parametersGrid,\n",
        "                            cv=3,scoring='roc_auc',\n",
        "                            n_iter=10, \n",
        "                            random_state=27,\n",
        "                            n_jobs = -1,\n",
        "                           verbose=2)\n",
        "\n",
        "grid.fit(scaled_X_train, y_train)"
      ],
      "execution_count": 43,
      "outputs": [
        {
          "output_type": "stream",
          "text": [
            "Fitting 3 folds for each of 10 candidates, totalling 30 fits\n"
          ],
          "name": "stdout"
        },
        {
          "output_type": "stream",
          "text": [
            "[Parallel(n_jobs=-1)]: Using backend LokyBackend with 2 concurrent workers.\n",
            "[Parallel(n_jobs=-1)]: Done  30 out of  30 | elapsed:  9.3min finished\n",
            "/usr/local/lib/python3.6/dist-packages/sklearn/linear_model/_sag.py:330: ConvergenceWarning: The max_iter was reached which means the coef_ did not converge\n",
            "  \"the coef_ did not converge\", ConvergenceWarning)\n"
          ],
          "name": "stderr"
        },
        {
          "output_type": "execute_result",
          "data": {
            "text/plain": [
              "RandomizedSearchCV(cv=3, error_score=nan,\n",
              "                   estimator=LogisticRegression(C=1.0, class_weight=None,\n",
              "                                                dual=False, fit_intercept=True,\n",
              "                                                intercept_scaling=1,\n",
              "                                                l1_ratio=None, max_iter=100,\n",
              "                                                multi_class='auto', n_jobs=None,\n",
              "                                                penalty='l2', random_state=None,\n",
              "                                                solver='lbfgs', tol=0.0001,\n",
              "                                                verbose=0, warm_start=False),\n",
              "                   iid='deprecated', n_iter=10, n_jobs=-1,\n",
              "                   param_distributions={'C': [0.0001, 0.001, 0.01, 0.1, 1, 10,\n",
              "                                              100],\n",
              "                                        'l1_ratio': array([0. , 0.1, 0.2, 0.3, 0.4, 0.5, 0.6, 0.7, 0.8, 0.9]),\n",
              "                                        'penalty': ['elasticnet'],\n",
              "                                        'solver': ['saga']},\n",
              "                   pre_dispatch='2*n_jobs', random_state=27, refit=True,\n",
              "                   return_train_score=False, scoring='roc_auc', verbose=2)"
            ]
          },
          "metadata": {
            "tags": []
          },
          "execution_count": 43
        }
      ]
    },
    {
      "cell_type": "code",
      "metadata": {
        "id": "I6866IzV-_YF",
        "colab_type": "code",
        "colab": {}
      },
      "source": [
        "def accuracy_metrics(model,train_x,test_x,train_y,test_y):\n",
        "    y_train_pred =model.best_estimator_.predict(train_x)\n",
        "    y_test_pred =model.best_estimator_.predict(test_x)\n",
        "    print(\"Train Accuracy:\",metrics.accuracy_score(train_y,y_train_pred))\n",
        "    print(\"Test Accuracy:\",metrics.accuracy_score(test_y,y_test_pred))\n",
        "    "
      ],
      "execution_count": 0,
      "outputs": []
    },
    {
      "cell_type": "code",
      "metadata": {
        "id": "diGJEGH0-_YJ",
        "colab_type": "code",
        "colab": {}
      },
      "source": [
        "y_pred= grid.best_estimator_.predict(scaler.fit_transform(X_test))"
      ],
      "execution_count": 0,
      "outputs": []
    },
    {
      "cell_type": "code",
      "metadata": {
        "id": "2Q6kAnFL-_YL",
        "colab_type": "code",
        "outputId": "c234883d-4214-4f51-b50c-1ebaceed27c8",
        "colab": {
          "base_uri": "https://localhost:8080/",
          "height": 397
        }
      },
      "source": [
        "#Our metric is AUC of the ROC Curve\n",
        "y_pred = grid.best_estimator_.predict_proba(scaler.fit_transform(X_test))\n",
        "false_positive_rate, true_positive_rate, thresholds = roc_curve(y_test, y_pred[:,1])\n",
        "roc_auc = auc(false_positive_rate, true_positive_rate)\n",
        "plt.title('Logistic ROC')\n",
        "plt.plot(false_positive_rate, true_positive_rate, 'b',\n",
        "label='AUC = %0.2f'% roc_auc)\n",
        "plt.legend(loc='lower right')\n",
        "plt.plot([0,1],[0,1],'r--')\n",
        "plt.xlim([-0.1,1.2])\n",
        "plt.ylim([-0.1,1.2])\n",
        "plt.ylabel('True Positive Rate')\n",
        "plt.xlabel('False Positive Rate')\n",
        "plt.show()\n",
        "print('Auc:',roc_auc)\n",
        "\n",
        "accuracy_metrics(grid,scaler.fit_transform(X_train),scaler.fit_transform(X_test), y_train,y_test)"
      ],
      "execution_count": 46,
      "outputs": [
        {
          "output_type": "execute_result",
          "data": {
            "text/plain": [
              "Text(0.5, 1.0, 'Logistic ROC')"
            ]
          },
          "metadata": {
            "tags": []
          },
          "execution_count": 46
        },
        {
          "output_type": "execute_result",
          "data": {
            "text/plain": [
              "[<matplotlib.lines.Line2D at 0x7f2e0f9636d8>]"
            ]
          },
          "metadata": {
            "tags": []
          },
          "execution_count": 46
        },
        {
          "output_type": "execute_result",
          "data": {
            "text/plain": [
              "<matplotlib.legend.Legend at 0x7f2e0fbbb4e0>"
            ]
          },
          "metadata": {
            "tags": []
          },
          "execution_count": 46
        },
        {
          "output_type": "execute_result",
          "data": {
            "text/plain": [
              "[<matplotlib.lines.Line2D at 0x7f2e0fbbbbe0>]"
            ]
          },
          "metadata": {
            "tags": []
          },
          "execution_count": 46
        },
        {
          "output_type": "execute_result",
          "data": {
            "text/plain": [
              "(-0.1, 1.2)"
            ]
          },
          "metadata": {
            "tags": []
          },
          "execution_count": 46
        },
        {
          "output_type": "execute_result",
          "data": {
            "text/plain": [
              "(-0.1, 1.2)"
            ]
          },
          "metadata": {
            "tags": []
          },
          "execution_count": 46
        },
        {
          "output_type": "execute_result",
          "data": {
            "text/plain": [
              "Text(0, 0.5, 'True Positive Rate')"
            ]
          },
          "metadata": {
            "tags": []
          },
          "execution_count": 46
        },
        {
          "output_type": "execute_result",
          "data": {
            "text/plain": [
              "Text(0.5, 0, 'False Positive Rate')"
            ]
          },
          "metadata": {
            "tags": []
          },
          "execution_count": 46
        },
        {
          "output_type": "display_data",
          "data": {
            "image/png": "[encoded data removed]",
            "text/plain": [
              "<Figure size 432x288 with 1 Axes>"
            ]
          },
          "metadata": {
            "tags": []
          }
        },
        {
          "output_type": "stream",
          "text": [
            "Auc: 0.8975757455739879\n",
            "Train Accuracy: 0.8670429307276577\n",
            "Test Accuracy: 0.868283154593092\n"
          ],
          "name": "stdout"
        }
      ]
    },
    {
      "cell_type": "markdown",
      "metadata": {
        "id": "0FqWp5MI-_YO",
        "colab_type": "text"
      },
      "source": [
        "### 2. XG Boost Classifier"
      ]
    },
    {
      "cell_type": "code",
      "metadata": {
        "id": "_Ygv_sKA6HKg",
        "colab_type": "code",
        "colab": {}
      },
      "source": [
        "import xgboost as xgb\n",
        "import sklearn"
      ],
      "execution_count": 0,
      "outputs": []
    },
    {
      "cell_type": "code",
      "metadata": {
        "id": "hxW9ZqAP6I3v",
        "colab_type": "code",
        "colab": {}
      },
      "source": [
        "# create a default XGBoost classifier\n",
        "model = xgb.XGBClassifier(\n",
        "    tree_method = \"gpu_hist\",\n",
        "    eval_metric=[\"error\", \"auc\"]\n",
        ")\n",
        "\n"
      ],
      "execution_count": 0,
      "outputs": []
    },
    {
      "cell_type": "code",
      "metadata": {
        "id": "YWDinJ407-Kr",
        "colab_type": "code",
        "outputId": "50271ef6-378c-4859-874a-d96b6aa2e21d",
        "colab": {
          "base_uri": "https://localhost:8080/",
          "height": 190
        }
      },
      "source": [
        "# Create the grid search parameter grid and scoring funcitons\n",
        "param_grid = {\n",
        "    \"learning_rate\": [0.1, 0.01],\n",
        "    \"colsample_bytree\": [0.6, 0.8, 1.0],\n",
        "    \"subsample\": [0.6, 0.8, 1.0],\n",
        "    \"max_depth\": [2, 3, 4],\n",
        "    \"n_estimators\": [100, 200, 300, 400],\n",
        "    \"reg_lambda\": [1, 1.5, 2],\n",
        "    \"gamma\": [0, 0.1, 0.3],\n",
        "}\n",
        "\n",
        "\n",
        "# create the grid search object\n",
        "\n",
        "grid = RandomizedSearchCV(\n",
        "    estimator=model, \n",
        "    param_distributions=param_grid,\n",
        "    cv=10,\n",
        "    n_jobs=-1,\n",
        "    n_iter=30,\n",
        "    refit=\"AUC\",\n",
        "    verbose = 2\n",
        ")\n",
        "# fit grid search\n",
        "%time best_model = grid.fit(X_train,y_train)"
      ],
      "execution_count": 49,
      "outputs": [
        {
          "output_type": "stream",
          "text": [
            "Fitting 10 folds for each of 30 candidates, totalling 300 fits\n"
          ],
          "name": "stdout"
        },
        {
          "output_type": "stream",
          "text": [
            "[Parallel(n_jobs=-1)]: Using backend LokyBackend with 2 concurrent workers.\n",
            "/usr/local/lib/python3.6/dist-packages/joblib/externals/loky/process_executor.py:706: UserWarning: A worker stopped while some jobs were given to the executor. This can be caused by a too short worker timeout or by a memory leak.\n",
            "  \"timeout or by a memory leak.\", UserWarning\n",
            "[Parallel(n_jobs=-1)]: Done  37 tasks      | elapsed:  2.1min\n",
            "[Parallel(n_jobs=-1)]: Done 158 tasks      | elapsed:  6.8min\n",
            "[Parallel(n_jobs=-1)]: Done 300 out of 300 | elapsed: 13.6min finished\n"
          ],
          "name": "stderr"
        },
        {
          "output_type": "stream",
          "text": [
            "CPU times: user 5.74 s, sys: 2.55 s, total: 8.29 s\n",
            "Wall time: 13min 41s\n"
          ],
          "name": "stdout"
        }
      ]
    },
    {
      "cell_type": "code",
      "metadata": {
        "id": "7v0COs25-_YP",
        "colab_type": "code",
        "outputId": "27195764-184f-4b47-e1f9-f52933505703",
        "colab": {
          "base_uri": "https://localhost:8080/",
          "height": 397
        }
      },
      "source": [
        "y_pred = grid.best_estimator_.predict_proba(X_test)\n",
        "false_positive_rate, true_positive_rate, thresholds = roc_curve(y_test, y_pred[:,1])\n",
        "roc_auc = auc(false_positive_rate, true_positive_rate)\n",
        "plt.title('XG Boost ROC')\n",
        "plt.plot(false_positive_rate, true_positive_rate, 'b',\n",
        "label='AUC = %0.2f'% roc_auc)\n",
        "plt.legend(loc='lower right')\n",
        "plt.plot([0,1],[0,1],'r--')\n",
        "plt.xlim([-0.1,1.2])\n",
        "plt.ylim([-0.1,1.2])\n",
        "plt.ylabel('True Positive Rate')\n",
        "plt.xlabel('False Positive Rate')\n",
        "plt.show()\n",
        "print('Auc:',roc_auc)\n",
        "\n",
        "accuracy_metrics(grid,X_train,X_test, y_train,y_test)"
      ],
      "execution_count": 50,
      "outputs": [
        {
          "output_type": "execute_result",
          "data": {
            "text/plain": [
              "Text(0.5, 1.0, 'XG Boost ROC')"
            ]
          },
          "metadata": {
            "tags": []
          },
          "execution_count": 50
        },
        {
          "output_type": "execute_result",
          "data": {
            "text/plain": [
              "[<matplotlib.lines.Line2D at 0x7f2e0fb4beb8>]"
            ]
          },
          "metadata": {
            "tags": []
          },
          "execution_count": 50
        },
        {
          "output_type": "execute_result",
          "data": {
            "text/plain": [
              "<matplotlib.legend.Legend at 0x7f2e0fba0908>"
            ]
          },
          "metadata": {
            "tags": []
          },
          "execution_count": 50
        },
        {
          "output_type": "execute_result",
          "data": {
            "text/plain": [
              "[<matplotlib.lines.Line2D at 0x7f2e0fba0a90>]"
            ]
          },
          "metadata": {
            "tags": []
          },
          "execution_count": 50
        },
        {
          "output_type": "execute_result",
          "data": {
            "text/plain": [
              "(-0.1, 1.2)"
            ]
          },
          "metadata": {
            "tags": []
          },
          "execution_count": 50
        },
        {
          "output_type": "execute_result",
          "data": {
            "text/plain": [
              "(-0.1, 1.2)"
            ]
          },
          "metadata": {
            "tags": []
          },
          "execution_count": 50
        },
        {
          "output_type": "execute_result",
          "data": {
            "text/plain": [
              "Text(0, 0.5, 'True Positive Rate')"
            ]
          },
          "metadata": {
            "tags": []
          },
          "execution_count": 50
        },
        {
          "output_type": "execute_result",
          "data": {
            "text/plain": [
              "Text(0.5, 0, 'False Positive Rate')"
            ]
          },
          "metadata": {
            "tags": []
          },
          "execution_count": 50
        },
        {
          "output_type": "display_data",
          "data": {
            "image/png": "[encoded data removed]",
            "text/plain": [
              "<Figure size 432x288 with 1 Axes>"
            ]
          },
          "metadata": {
            "tags": []
          }
        },
        {
          "output_type": "stream",
          "text": [
            "Auc: 0.9729331450454142\n",
            "Train Accuracy: 0.9365570899324321\n",
            "Test Accuracy: 0.9341979227316267\n"
          ],
          "name": "stdout"
        }
      ]
    },
    {
      "cell_type": "markdown",
      "metadata": {
        "id": "p-p3ffREFG-R",
        "colab_type": "text"
      },
      "source": [
        "### 3. Neural Net Classifier- Tensorflow"
      ]
    },
    {
      "cell_type": "code",
      "metadata": {
        "id": "4JIlTQJJ9wqA",
        "colab_type": "code",
        "colab": {}
      },
      "source": [
        "import tensorflow as tf\n",
        "import tensorflow_hub as hub\n",
        "from tensorboard.plugins.hparams import api as hp\n"
      ],
      "execution_count": 0,
      "outputs": []
    },
    {
      "cell_type": "code",
      "metadata": {
        "id": "OyhIPpuzFZmh",
        "colab_type": "code",
        "colab": {
          "base_uri": "https://localhost:8080/",
          "height": 34
        },
        "outputId": "8c9c8eaa-feb2-4578-ffff-fa9c659ebbbd"
      },
      "source": [
        "print(tf.__version__)"
      ],
      "execution_count": 54,
      "outputs": [
        {
          "output_type": "stream",
          "text": [
            "2.2.0-rc2\n"
          ],
          "name": "stdout"
        }
      ]
    },
    {
      "cell_type": "code",
      "metadata": {
        "id": "O8QEJ96p-Tkz",
        "colab_type": "code",
        "colab": {
          "base_uri": "https://localhost:8080/",
          "height": 34
        },
        "outputId": "0a0d1873-4ff0-423d-931a-9cde10f8cced"
      },
      "source": [
        "X_train.shape"
      ],
      "execution_count": 69,
      "outputs": [
        {
          "output_type": "execute_result",
          "data": {
            "text/plain": [
              "(425942, 42)"
            ]
          },
          "metadata": {
            "tags": []
          },
          "execution_count": 69
        }
      ]
    },
    {
      "cell_type": "code",
      "metadata": {
        "id": "JunPxkp72ZVg",
        "colab_type": "code",
        "colab": {}
      },
      "source": [
        "model = tf.keras.Sequential([\n",
        "    tf.keras.layers.Dense(42, activation=tf.nn.relu),\n",
        "\t  tf.keras.layers.Dense(32, activation=tf.nn.relu),\n",
        "    tf.keras.layers.Dense(16, activation=tf.nn.relu),\n",
        "    tf.keras.layers.Dense(16, activation=tf.nn.relu),\n",
        "    tf.keras.layers.Dense(1, activation=tf.nn.sigmoid),\n",
        "])"
      ],
      "execution_count": 0,
      "outputs": []
    },
    {
      "cell_type": "code",
      "metadata": {
        "id": "dAL8hDZP5vvA",
        "colab_type": "code",
        "colab": {
          "base_uri": "https://localhost:8080/",
          "height": 34
        },
        "outputId": "d8bbf2ba-3353-4f5b-d347-b5a858f57894"
      },
      "source": [
        "device_name = tf.test.gpu_device_name()\n",
        "if device_name != '/device:GPU:0':\n",
        "  raise SystemError('GPU device not found')\n",
        "print('Found GPU at: {}'.format(device_name))"
      ],
      "execution_count": 65,
      "outputs": [
        {
          "output_type": "stream",
          "text": [
            "Found GPU at: /device:GPU:0\n"
          ],
          "name": "stdout"
        }
      ]
    },
    {
      "cell_type": "code",
      "metadata": {
        "id": "Q5O_Esyx1hFS",
        "colab_type": "code",
        "colab": {}
      },
      "source": [
        "model.compile(optimizer='adam',\n",
        "              loss='binary_crossentropy',\n",
        "              metrics=['accuracy'])"
      ],
      "execution_count": 0,
      "outputs": []
    },
    {
      "cell_type": "code",
      "metadata": {
        "id": "nLiZllEa6ssT",
        "colab_type": "code",
        "colab": {
          "base_uri": "https://localhost:8080/",
          "height": 1000
        },
        "outputId": "e0a6cadc-3e9d-4ff2-9bb5-d3cd91e56b8e"
      },
      "source": [
        "\n",
        "model.fit(scaler.fit_transform(X_train), y_train,\n",
        "          epochs=50,\n",
        "          batch_size=64,\n",
        "          learning_rate = 0.01\n",
        "          )\n",
        "\n",
        "test_loss, test_acc = model.evaluate(scaler.fit_transform(X_test), y_test)\n",
        "print('Test accuracy:', test_acc)"
      ],
      "execution_count": 82,
      "outputs": [
        {
          "output_type": "stream",
          "text": [
            "Epoch 1/50\n",
            "6656/6656 [==============================] - 22s 3ms/step - loss: 0.2448 - accuracy: 0.9041\n",
            "Epoch 2/50\n",
            "6656/6656 [==============================] - 22s 3ms/step - loss: 0.1992 - accuracy: 0.9250\n",
            "Epoch 3/50\n",
            "6656/6656 [==============================] - 22s 3ms/step - loss: 0.1917 - accuracy: 0.9279\n",
            "Epoch 4/50\n",
            "6656/6656 [==============================] - 21s 3ms/step - loss: 0.1884 - accuracy: 0.9295\n",
            "Epoch 5/50\n",
            "6656/6656 [==============================] - 21s 3ms/step - loss: 0.1867 - accuracy: 0.9297\n",
            "Epoch 6/50\n",
            "6656/6656 [==============================] - 22s 3ms/step - loss: 0.1847 - accuracy: 0.9308\n",
            "Epoch 7/50\n",
            "6656/6656 [==============================] - 21s 3ms/step - loss: 0.1834 - accuracy: 0.9310\n",
            "Epoch 8/50\n",
            "6656/6656 [==============================] - 21s 3ms/step - loss: 0.1825 - accuracy: 0.9315\n",
            "Epoch 9/50\n",
            "6656/6656 [==============================] - 21s 3ms/step - loss: 0.1816 - accuracy: 0.9316\n",
            "Epoch 10/50\n",
            "6656/6656 [==============================] - 22s 3ms/step - loss: 0.1807 - accuracy: 0.9323\n",
            "Epoch 11/50\n",
            "6656/6656 [==============================] - 21s 3ms/step - loss: 0.1798 - accuracy: 0.9324\n",
            "Epoch 12/50\n",
            "6656/6656 [==============================] - 21s 3ms/step - loss: 0.1790 - accuracy: 0.9329\n",
            "Epoch 13/50\n",
            "6656/6656 [==============================] - 22s 3ms/step - loss: 0.1785 - accuracy: 0.9327\n",
            "Epoch 14/50\n",
            "6656/6656 [==============================] - 22s 3ms/step - loss: 0.1775 - accuracy: 0.9332\n",
            "Epoch 15/50\n",
            "6656/6656 [==============================] - 22s 3ms/step - loss: 0.1773 - accuracy: 0.9333\n",
            "Epoch 16/50\n",
            "6656/6656 [==============================] - 21s 3ms/step - loss: 0.1768 - accuracy: 0.9335\n",
            "Epoch 17/50\n",
            "6656/6656 [==============================] - 21s 3ms/step - loss: 0.1761 - accuracy: 0.9338\n",
            "Epoch 18/50\n",
            "6656/6656 [==============================] - 22s 3ms/step - loss: 0.1755 - accuracy: 0.9342\n",
            "Epoch 19/50\n",
            "6656/6656 [==============================] - 22s 3ms/step - loss: 0.1750 - accuracy: 0.9344\n",
            "Epoch 20/50\n",
            "6656/6656 [==============================] - 22s 3ms/step - loss: 0.1747 - accuracy: 0.9342\n",
            "Epoch 21/50\n",
            "6656/6656 [==============================] - 22s 3ms/step - loss: 0.1742 - accuracy: 0.9346\n",
            "Epoch 22/50\n",
            "6656/6656 [==============================] - 21s 3ms/step - loss: 0.1740 - accuracy: 0.9346\n",
            "Epoch 23/50\n",
            "6656/6656 [==============================] - 22s 3ms/step - loss: 0.1738 - accuracy: 0.9347\n",
            "Epoch 24/50\n",
            "6656/6656 [==============================] - 22s 3ms/step - loss: 0.1731 - accuracy: 0.9350\n",
            "Epoch 25/50\n",
            "6656/6656 [==============================] - 22s 3ms/step - loss: 0.1731 - accuracy: 0.9351\n",
            "Epoch 26/50\n",
            "6656/6656 [==============================] - 23s 3ms/step - loss: 0.1727 - accuracy: 0.9350\n",
            "Epoch 27/50\n",
            "6656/6656 [==============================] - 22s 3ms/step - loss: 0.1723 - accuracy: 0.9355\n",
            "Epoch 28/50\n",
            "6656/6656 [==============================] - 22s 3ms/step - loss: 0.1721 - accuracy: 0.9354\n",
            "Epoch 29/50\n",
            "6656/6656 [==============================] - 22s 3ms/step - loss: 0.1721 - accuracy: 0.9354\n",
            "Epoch 30/50\n",
            "6656/6656 [==============================] - 22s 3ms/step - loss: 0.1716 - accuracy: 0.9357\n",
            "Epoch 31/50\n",
            "6656/6656 [==============================] - 22s 3ms/step - loss: 0.1716 - accuracy: 0.9355\n",
            "Epoch 32/50\n",
            "6656/6656 [==============================] - 22s 3ms/step - loss: 0.1715 - accuracy: 0.9357\n",
            "Epoch 33/50\n",
            "6656/6656 [==============================] - 22s 3ms/step - loss: 0.1710 - accuracy: 0.9356\n",
            "Epoch 34/50\n",
            "6656/6656 [==============================] - 22s 3ms/step - loss: 0.1707 - accuracy: 0.9360\n",
            "Epoch 35/50\n",
            "6656/6656 [==============================] - 22s 3ms/step - loss: 0.1706 - accuracy: 0.9359\n",
            "Epoch 36/50\n",
            "6656/6656 [==============================] - 22s 3ms/step - loss: 0.1702 - accuracy: 0.9361\n",
            "Epoch 37/50\n",
            "6656/6656 [==============================] - 22s 3ms/step - loss: 0.1703 - accuracy: 0.9360\n",
            "Epoch 38/50\n",
            "6656/6656 [==============================] - 23s 3ms/step - loss: 0.1699 - accuracy: 0.9360\n",
            "Epoch 39/50\n",
            "6656/6656 [==============================] - 22s 3ms/step - loss: 0.1697 - accuracy: 0.9361\n",
            "Epoch 40/50\n",
            "6656/6656 [==============================] - 22s 3ms/step - loss: 0.1696 - accuracy: 0.9362\n",
            "Epoch 41/50\n",
            "6656/6656 [==============================] - 22s 3ms/step - loss: 0.1693 - accuracy: 0.9362\n",
            "Epoch 42/50\n",
            "6656/6656 [==============================] - 22s 3ms/step - loss: 0.1691 - accuracy: 0.9364\n",
            "Epoch 43/50\n",
            "6656/6656 [==============================] - 21s 3ms/step - loss: 0.1689 - accuracy: 0.9364\n",
            "Epoch 44/50\n",
            "6656/6656 [==============================] - 22s 3ms/step - loss: 0.1689 - accuracy: 0.9364\n",
            "Epoch 45/50\n",
            "6656/6656 [==============================] - 22s 3ms/step - loss: 0.1687 - accuracy: 0.9366\n",
            "Epoch 46/50\n",
            "6656/6656 [==============================] - 21s 3ms/step - loss: 0.1688 - accuracy: 0.9365\n",
            "Epoch 47/50\n",
            "6656/6656 [==============================] - 22s 3ms/step - loss: 0.1684 - accuracy: 0.9365\n",
            "Epoch 48/50\n",
            "6656/6656 [==============================] - 23s 3ms/step - loss: 0.1683 - accuracy: 0.9368\n",
            "Epoch 49/50\n",
            "6656/6656 [==============================] - 22s 3ms/step - loss: 0.1683 - accuracy: 0.9368\n",
            "Epoch 50/50\n",
            "6656/6656 [==============================] - 22s 3ms/step - loss: 0.1682 - accuracy: 0.9367\n"
          ],
          "name": "stdout"
        },
        {
          "output_type": "execute_result",
          "data": {
            "text/plain": [
              "<tensorflow.python.keras.callbacks.History at 0x7f2e0f2efcf8>"
            ]
          },
          "metadata": {
            "tags": []
          },
          "execution_count": 82
        },
        {
          "output_type": "stream",
          "text": [
            "3328/3328 [==============================] - 8s 2ms/step - loss: 0.1756 - accuracy: 0.9345\n",
            "Test accuracy: 0.9345172047615051\n"
          ],
          "name": "stdout"
        }
      ]
    }
  ]
}